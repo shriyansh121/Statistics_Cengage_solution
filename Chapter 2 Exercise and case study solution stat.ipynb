{
 "cells": [
  {
   "cell_type": "markdown",
   "id": "990ad264-c2b0-4bcb-a834-44ef29cd5d31",
   "metadata": {},
   "source": [
    "***The questions frorm method were solved normally. This is supplementary exercises and Case Studies***"
   ]
  },
  {
   "cell_type": "code",
   "execution_count": 1,
   "id": "58a52071-ee61-4f05-afdd-d852eada369d",
   "metadata": {},
   "outputs": [],
   "source": [
    "import pandas as pd\n",
    "import matplotlib.pyplot as plt\n",
    "import stemgraphic\n",
    "import warnings\n",
    "warnings.filterwarnings('ignore')"
   ]
  },
  {
   "cell_type": "markdown",
   "id": "fab78554-0969-4dc1-825a-4d9411a710eb",
   "metadata": {},
   "source": [
    "# Q44 SAT Score"
   ]
  },
  {
   "cell_type": "code",
   "execution_count": 2,
   "id": "df0e0d8d-db10-41b1-a62e-fb622fa30067",
   "metadata": {},
   "outputs": [],
   "source": [
    "df = pd.read_excel('NewSAT.xlsx')"
   ]
  },
  {
   "cell_type": "code",
   "execution_count": 3,
   "id": "5d2590ff-565d-46d6-89e6-b793a2efecc1",
   "metadata": {},
   "outputs": [
    {
     "data": {
      "text/html": [
       "<div>\n",
       "<style scoped>\n",
       "    .dataframe tbody tr th:only-of-type {\n",
       "        vertical-align: middle;\n",
       "    }\n",
       "\n",
       "    .dataframe tbody tr th {\n",
       "        vertical-align: top;\n",
       "    }\n",
       "\n",
       "    .dataframe thead th {\n",
       "        text-align: right;\n",
       "    }\n",
       "</style>\n",
       "<table border=\"1\" class=\"dataframe\">\n",
       "  <thead>\n",
       "    <tr style=\"text-align: right;\">\n",
       "      <th></th>\n",
       "      <th>SAT Scores</th>\n",
       "    </tr>\n",
       "  </thead>\n",
       "  <tbody>\n",
       "    <tr>\n",
       "      <th>0</th>\n",
       "      <td>1665</td>\n",
       "    </tr>\n",
       "    <tr>\n",
       "      <th>1</th>\n",
       "      <td>1275</td>\n",
       "    </tr>\n",
       "    <tr>\n",
       "      <th>2</th>\n",
       "      <td>1650</td>\n",
       "    </tr>\n",
       "    <tr>\n",
       "      <th>3</th>\n",
       "      <td>1590</td>\n",
       "    </tr>\n",
       "    <tr>\n",
       "      <th>4</th>\n",
       "      <td>1475</td>\n",
       "    </tr>\n",
       "    <tr>\n",
       "      <th>5</th>\n",
       "      <td>1490</td>\n",
       "    </tr>\n",
       "    <tr>\n",
       "      <th>6</th>\n",
       "      <td>1525</td>\n",
       "    </tr>\n",
       "    <tr>\n",
       "      <th>7</th>\n",
       "      <td>2135</td>\n",
       "    </tr>\n",
       "    <tr>\n",
       "      <th>8</th>\n",
       "      <td>1560</td>\n",
       "    </tr>\n",
       "    <tr>\n",
       "      <th>9</th>\n",
       "      <td>1880</td>\n",
       "    </tr>\n",
       "    <tr>\n",
       "      <th>10</th>\n",
       "      <td>1680</td>\n",
       "    </tr>\n",
       "    <tr>\n",
       "      <th>11</th>\n",
       "      <td>1560</td>\n",
       "    </tr>\n",
       "    <tr>\n",
       "      <th>12</th>\n",
       "      <td>1355</td>\n",
       "    </tr>\n",
       "    <tr>\n",
       "      <th>13</th>\n",
       "      <td>1280</td>\n",
       "    </tr>\n",
       "    <tr>\n",
       "      <th>14</th>\n",
       "      <td>1150</td>\n",
       "    </tr>\n",
       "    <tr>\n",
       "      <th>15</th>\n",
       "      <td>1420</td>\n",
       "    </tr>\n",
       "    <tr>\n",
       "      <th>16</th>\n",
       "      <td>1440</td>\n",
       "    </tr>\n",
       "    <tr>\n",
       "      <th>17</th>\n",
       "      <td>940</td>\n",
       "    </tr>\n",
       "    <tr>\n",
       "      <th>18</th>\n",
       "      <td>1645</td>\n",
       "    </tr>\n",
       "    <tr>\n",
       "      <th>19</th>\n",
       "      <td>1060</td>\n",
       "    </tr>\n",
       "    <tr>\n",
       "      <th>20</th>\n",
       "      <td>1485</td>\n",
       "    </tr>\n",
       "    <tr>\n",
       "      <th>21</th>\n",
       "      <td>1755</td>\n",
       "    </tr>\n",
       "    <tr>\n",
       "      <th>22</th>\n",
       "      <td>1260</td>\n",
       "    </tr>\n",
       "    <tr>\n",
       "      <th>23</th>\n",
       "      <td>1390</td>\n",
       "    </tr>\n",
       "    <tr>\n",
       "      <th>24</th>\n",
       "      <td>1780</td>\n",
       "    </tr>\n",
       "    <tr>\n",
       "      <th>25</th>\n",
       "      <td>1585</td>\n",
       "    </tr>\n",
       "    <tr>\n",
       "      <th>26</th>\n",
       "      <td>1990</td>\n",
       "    </tr>\n",
       "    <tr>\n",
       "      <th>27</th>\n",
       "      <td>1375</td>\n",
       "    </tr>\n",
       "    <tr>\n",
       "      <th>28</th>\n",
       "      <td>1730</td>\n",
       "    </tr>\n",
       "    <tr>\n",
       "      <th>29</th>\n",
       "      <td>1175</td>\n",
       "    </tr>\n",
       "  </tbody>\n",
       "</table>\n",
       "</div>"
      ],
      "text/plain": [
       "    SAT Scores\n",
       "0         1665\n",
       "1         1275\n",
       "2         1650\n",
       "3         1590\n",
       "4         1475\n",
       "5         1490\n",
       "6         1525\n",
       "7         2135\n",
       "8         1560\n",
       "9         1880\n",
       "10        1680\n",
       "11        1560\n",
       "12        1355\n",
       "13        1280\n",
       "14        1150\n",
       "15        1420\n",
       "16        1440\n",
       "17         940\n",
       "18        1645\n",
       "19        1060\n",
       "20        1485\n",
       "21        1755\n",
       "22        1260\n",
       "23        1390\n",
       "24        1780\n",
       "25        1585\n",
       "26        1990\n",
       "27        1375\n",
       "28        1730\n",
       "29        1175"
      ]
     },
     "execution_count": 3,
     "metadata": {},
     "output_type": "execute_result"
    }
   ],
   "source": [
    "df"
   ]
  },
  {
   "cell_type": "code",
   "execution_count": 4,
   "id": "75ada21a-7755-439e-b9e0-b6bdf7f45c9f",
   "metadata": {},
   "outputs": [
    {
     "data": {
      "text/plain": [
       "(30, 1)"
      ]
     },
     "execution_count": 4,
     "metadata": {},
     "output_type": "execute_result"
    }
   ],
   "source": [
    "df.shape"
   ]
  },
  {
   "cell_type": "code",
   "execution_count": 5,
   "id": "a6331fe5-eca3-41bb-be79-39097afd4ac4",
   "metadata": {},
   "outputs": [
    {
     "data": {
      "text/plain": [
       "SAT Scores\n",
       "940           1\n",
       "1060          1\n",
       "1150          1\n",
       "1175          1\n",
       "1260          1\n",
       "1275          1\n",
       "1280          1\n",
       "1355          1\n",
       "1375          1\n",
       "1390          1\n",
       "1420          1\n",
       "1440          1\n",
       "1475          1\n",
       "1485          1\n",
       "1490          1\n",
       "1525          1\n",
       "1560          2\n",
       "1585          1\n",
       "1590          1\n",
       "1645          1\n",
       "1650          1\n",
       "1665          1\n",
       "1680          1\n",
       "1730          1\n",
       "1755          1\n",
       "1780          1\n",
       "1880          1\n",
       "1990          1\n",
       "2135          1\n",
       "Name: count, dtype: int64"
      ]
     },
     "execution_count": 5,
     "metadata": {},
     "output_type": "execute_result"
    }
   ],
   "source": [
    "df.value_counts().sort_index()"
   ]
  },
  {
   "cell_type": "code",
   "execution_count": 6,
   "id": "e0ef0f34-09f5-42fb-aefe-7ec3e56e1a8c",
   "metadata": {},
   "outputs": [],
   "source": [
    "sat = df['SAT Scores'].tolist()\n",
    "class_1 = []\n",
    "class_2 = []\n",
    "class_3 = []\n",
    "class_4 = []\n",
    "class_5 = []\n",
    "class_6 = []\n",
    "class_7 = []\n",
    "for s in sat:\n",
    "    if s>=800 and s<=999:\n",
    "        class_1.append(s)\n",
    "    elif s>=1000 and s<=1199:\n",
    "        class_2.append(s)\n",
    "    elif s>=1200 and s<=1399:\n",
    "        class_3.append(s)\n",
    "    elif s>=1400 and s<=1599:\n",
    "        class_4.append(s)\n",
    "    elif s>=1600 and s<=1799:\n",
    "        class_5.append(s)\n",
    "    elif s>=1800 and s<=1999:\n",
    "        class_6.append(s)\n",
    "    elif s>=2000 and s<=2199:\n",
    "        class_7.append(s)"
   ]
  },
  {
   "cell_type": "code",
   "execution_count": 7,
   "id": "f19948fc-4760-4f2a-bb0f-c3ed94a1cfad",
   "metadata": {},
   "outputs": [
    {
     "name": "stdout",
     "output_type": "stream",
     "text": [
      "800-999   : [940]\n",
      "1000-1199 : [1150, 1060, 1175]\n",
      "1200-1399 : [1275, 1355, 1280, 1260, 1390, 1375]\n",
      "1400-1599 : [1590, 1475, 1490, 1525, 1560, 1560, 1420, 1440, 1485, 1585]\n",
      "1600-1799 : [1665, 1650, 1680, 1645, 1755, 1780, 1730]\n",
      "1800-1999 : [1880, 1990]\n",
      "2000-2199 : [2135]\n"
     ]
    }
   ],
   "source": [
    "l = [class_1, class_2, class_3, class_4, class_5, class_6, class_7]\n",
    "class_main = [\"800-999  \", \"1000-1199\", \"1200-1399\", \"1400-1599\", \"1600-1799\", \"1800-1999\", \"2000-2199\"]\n",
    "for i,j in zip(class_main, l):\n",
    "    print(i,\":\",j)"
   ]
  },
  {
   "cell_type": "code",
   "execution_count": 8,
   "id": "da269b0b-4a53-4746-9a11-f74561ec8923",
   "metadata": {},
   "outputs": [
    {
     "name": "stdout",
     "output_type": "stream",
     "text": [
      "Class\t     Frequency\n",
      "\n",
      "800-999   :   1\n",
      "1000-1199 :   3\n",
      "1200-1399 :   6\n",
      "1400-1599 :   10\n",
      "1600-1799 :   7\n",
      "1800-1999 :   2\n",
      "2000-2199 :   1\n"
     ]
    }
   ],
   "source": [
    "print(\"Class\\t     Frequency\\n\")\n",
    "freq = [len(j) for j in l]\n",
    "for i, j in zip(class_main, freq):\n",
    "    print(i,\":  \",j)"
   ]
  },
  {
   "cell_type": "code",
   "execution_count": 9,
   "id": "59ea5c14-0f99-4f86-8965-47c4b68731d2",
   "metadata": {},
   "outputs": [],
   "source": [
    "rel_freq = []\n",
    "per_freq = []\n",
    "total=0\n",
    "\n",
    "#Calculation of total sample\n",
    "#Alternate method df.shape\n",
    "for i in freq:\n",
    "    total += i\n",
    "\n",
    "#Calculation of Relative Frequency and Percent Frequency\n",
    "for i in l:\n",
    "    p = round((len(i)*100)/total ,4)\n",
    "    f = round(len(i)/total,4)\n",
    "    rel_freq.append(f)\n",
    "    per_freq.append(p)"
   ]
  },
  {
   "cell_type": "code",
   "execution_count": 10,
   "id": "9c1b6d63-291d-45f9-8159-1d0c00c5ebf4",
   "metadata": {},
   "outputs": [
    {
     "name": "stdout",
     "output_type": "stream",
     "text": [
      "Total number of samples:  30\n",
      "\n",
      "Class\t     Frequency\t  Relative Frequency\t Percent Frequency\n",
      "\n",
      "800-999   :\t 1 \t       0.0333 \t\t       3.3333\n",
      "1000-1199 :\t 3 \t       0.1 \t\t       10.0\n",
      "1200-1399 :\t 6 \t       0.2 \t\t       20.0\n",
      "1400-1599 :\t 10 \t       0.3333 \t\t       33.3333\n",
      "1600-1799 :\t 7 \t       0.2333 \t\t       23.3333\n",
      "1800-1999 :\t 2 \t       0.0667 \t\t       6.6667\n",
      "2000-2199 :\t 1 \t       0.0333 \t\t       3.3333\n"
     ]
    }
   ],
   "source": [
    "#Printing the statistical Summary\n",
    "print(\"Total number of samples: \", total)\n",
    "print(\"\\nClass\\t     Frequency\\t  Relative Frequency\\t Percent Frequency\\n\")\n",
    "for i,j,k,m in zip(class_main,freq,rel_freq,per_freq):\n",
    "    print(i,\":\\t\", j,\"\\t      \",k,\"\\t\\t      \",m)"
   ]
  },
  {
   "cell_type": "code",
   "execution_count": 11,
   "id": "ffd643a9-1d33-46e9-8243-cf4dbcfb8cad",
   "metadata": {},
   "outputs": [
    {
     "data": {
      "image/png": "[encoded data removed]",
      "text/plain": [
       "<Figure size 2000x600 with 3 Axes>"
      ]
     },
     "metadata": {},
     "output_type": "display_data"
    }
   ],
   "source": [
    "fig, axes = plt.subplots(nrows=1, ncols=3, figsize=(20,6))\n",
    "\n",
    "axes[0].bar(class_main, freq,color=\"skyblue\")\n",
    "axes[0].set_title('Frequency Histogram')\n",
    "axes[0].set_xlabel(\"SAT Score\")\n",
    "axes[0].set_ylabel(\"Frequency\")\n",
    "\n",
    "axes[1].bar(class_main, rel_freq, color=\"gold\")\n",
    "axes[1].set_title('Relative Frequency Histogram')\n",
    "axes[1].set_xlabel(\"SAT Scores\")\n",
    "axes[1].set_ylabel(\"Relative Frequency\")\n",
    "\n",
    "axes[2].bar(class_main, per_freq, color=\"lightgreen\")\n",
    "axes[2].set_title('Percent Frequency Histogram')\n",
    "axes[2].set_xlabel(\"SAT Score\")\n",
    "axes[2].set_ylabel(\"Percent Frequency\")\n",
    "\n",
    "plt.tight_layout()\n",
    "plt.show()"
   ]
  },
  {
   "cell_type": "markdown",
   "id": "f6ffbaa7-426a-4d76-a271-add62509e555",
   "metadata": {},
   "source": [
    "# Q45"
   ]
  },
  {
   "cell_type": "code",
   "execution_count": 12,
   "id": "e55bb403-9480-4921-9a0f-7342211501de",
   "metadata": {},
   "outputs": [],
   "source": [
    "q45 = pd.read_excel('MedianHousehold.xlsx')"
   ]
  },
  {
   "cell_type": "code",
   "execution_count": 13,
   "id": "e0e642f4-7f90-4ec3-bee1-0140e507e6ba",
   "metadata": {},
   "outputs": [
    {
     "data": {
      "text/html": [
       "<div>\n",
       "<style scoped>\n",
       "    .dataframe tbody tr th:only-of-type {\n",
       "        vertical-align: middle;\n",
       "    }\n",
       "\n",
       "    .dataframe tbody tr th {\n",
       "        vertical-align: top;\n",
       "    }\n",
       "\n",
       "    .dataframe thead th {\n",
       "        text-align: right;\n",
       "    }\n",
       "</style>\n",
       "<table border=\"1\" class=\"dataframe\">\n",
       "  <thead>\n",
       "    <tr style=\"text-align: right;\">\n",
       "      <th></th>\n",
       "      <th>State</th>\n",
       "      <th>Median Income (000's)</th>\n",
       "    </tr>\n",
       "  </thead>\n",
       "  <tbody>\n",
       "    <tr>\n",
       "      <th>0</th>\n",
       "      <td>Alabama</td>\n",
       "      <td>76.2</td>\n",
       "    </tr>\n",
       "    <tr>\n",
       "      <th>1</th>\n",
       "      <td>Alaska</td>\n",
       "      <td>98.4</td>\n",
       "    </tr>\n",
       "    <tr>\n",
       "      <th>2</th>\n",
       "      <td>Arizona</td>\n",
       "      <td>79.7</td>\n",
       "    </tr>\n",
       "    <tr>\n",
       "      <th>3</th>\n",
       "      <td>Arkansas</td>\n",
       "      <td>70.9</td>\n",
       "    </tr>\n",
       "    <tr>\n",
       "      <th>4</th>\n",
       "      <td>California</td>\n",
       "      <td>91.2</td>\n",
       "    </tr>\n",
       "  </tbody>\n",
       "</table>\n",
       "</div>"
      ],
      "text/plain": [
       "        State  Median Income (000's)\n",
       "0     Alabama                   76.2\n",
       "1      Alaska                   98.4\n",
       "2     Arizona                   79.7\n",
       "3    Arkansas                   70.9\n",
       "4  California                   91.2"
      ]
     },
     "execution_count": 13,
     "metadata": {},
     "output_type": "execute_result"
    }
   ],
   "source": [
    "q45.head()"
   ]
  },
  {
   "cell_type": "code",
   "execution_count": 14,
   "id": "78191171-d783-4fa7-89f4-96eee1ea3ec0",
   "metadata": {},
   "outputs": [
    {
     "data": {
      "text/plain": [
       "(50, 2)"
      ]
     },
     "execution_count": 14,
     "metadata": {},
     "output_type": "execute_result"
    }
   ],
   "source": [
    "q45.shape"
   ]
  },
  {
   "cell_type": "code",
   "execution_count": 15,
   "id": "04e495aa-7f38-4774-8a91-4d542e2c4f7e",
   "metadata": {},
   "outputs": [
    {
     "data": {
      "text/plain": [
       "Index(['State', 'Median Income (000's)'], dtype='object')"
      ]
     },
     "execution_count": 15,
     "metadata": {},
     "output_type": "execute_result"
    }
   ],
   "source": [
    "q45.columns"
   ]
  },
  {
   "cell_type": "code",
   "execution_count": 16,
   "id": "a3622345-6404-4ee5-a6c0-22ba17c8eb05",
   "metadata": {},
   "outputs": [],
   "source": [
    "q45.rename(columns = {'Median Income (000\\'s)': 'Median_Income'}, inplace=True)"
   ]
  },
  {
   "cell_type": "code",
   "execution_count": 17,
   "id": "93d603af-11fa-4e91-a326-eff014cfcbd2",
   "metadata": {},
   "outputs": [
    {
     "name": "stdout",
     "output_type": "stream",
     "text": [
      "67.1\n",
      "110.7\n"
     ]
    }
   ],
   "source": [
    "income = q45['Median_Income'].tolist()\n",
    "print(min(income))\n",
    "print(max(income))"
   ]
  },
  {
   "cell_type": "code",
   "execution_count": 18,
   "id": "c79f69b2-615e-49e4-acf7-0f19fe0cc300",
   "metadata": {},
   "outputs": [],
   "source": [
    "class_main = [\"65-69  \", \"70-74  \", \"75-79  \", \"80-84  \", \"85-89  \", \"90-94  \", \"95-99  \", \"100-104\", \"105-109\", \"110-114\"]\n",
    "c1 = []\n",
    "c2 = []\n",
    "c3 = []\n",
    "c4 = []\n",
    "c5 = []\n",
    "c6 = []\n",
    "c7 = []\n",
    "c8 = []\n",
    "c9 = []\n",
    "c10 = []\n",
    "for i in income:\n",
    "    if i>=65 and i<=69:\n",
    "        c1.append(i)\n",
    "    elif i>=70 and i<=74:\n",
    "        c2.append(i)\n",
    "    elif i>=75 and i<=79:\n",
    "        c3.append(i)\n",
    "    elif i<=80 and i<=84:\n",
    "        c4.append(i)\n",
    "    elif i<=85 and i>=89:\n",
    "        c5.append(i)\n",
    "    elif i<=90 and i<=94:\n",
    "        c6.append(i)\n",
    "    elif i<=95 and i<=99:\n",
    "        c7.append(i)\n",
    "    elif i<=100 and i>=104:\n",
    "        c8.append(i)\n",
    "    elif i<=105 and i>=109:\n",
    "        c9.append(i)\n",
    "    else:\n",
    "        c10.append(i)\n",
    "c = [c1,c2,c3,c4,c5,c6,c7,c8,c9,c10]\n",
    "total = q45.shape[0]\n",
    "freq=[]\n",
    "rel_freq=[]\n",
    "per_freq=[]\n",
    "freq = [len(j) for j in c]\n",
    "rel_freq = [round(i/total, 4) for i in freq]\n",
    "per_freq = [round((i/total)*100,4) for i in freq]"
   ]
  },
  {
   "cell_type": "code",
   "execution_count": 19,
   "id": "a53e0b90-79ee-40c5-88c9-79221aca1efd",
   "metadata": {},
   "outputs": [
    {
     "name": "stdout",
     "output_type": "stream",
     "text": [
      "----------------------------Tabular Summary----------------------------\n",
      "\n",
      "Class\t  Frequency\tRelative Frequency\t Percent Frequency\n",
      "\n",
      "65-69   :   1 \t\t       0.02 \t\t\t 2.0\n",
      "70-74   :   5 \t\t       0.1 \t\t\t 10.0\n",
      "75-79   :   14 \t\t       0.28 \t\t\t 28.0\n",
      "80-84   :   4 \t\t       0.08 \t\t\t 8.0\n",
      "85-89   :   0 \t\t       0.0 \t\t\t 0.0\n",
      "90-94   :   13 \t\t       0.26 \t\t\t 26.0\n",
      "95-99   :   5 \t\t       0.1 \t\t\t 10.0\n",
      "100-104 :   0 \t\t       0.0 \t\t\t 0.0\n",
      "105-109 :   0 \t\t       0.0 \t\t\t 0.0\n",
      "110-114 :   8 \t\t       0.16 \t\t\t 16.0\n",
      "------------------------------------------------------------------------\n",
      "\t    50 \t\t       1.0 \t\t\t 100.0\n"
     ]
    }
   ],
   "source": [
    "print(\"----------------------------Tabular Summary----------------------------\\n\")\n",
    "print(\"Class\\t  Frequency\\tRelative Frequency\\t Percent Frequency\\n\")\n",
    "for i,j,k,l in zip(class_main,freq,rel_freq,per_freq):\n",
    "    print(i,\":  \", j,\"\\t\\t      \",k, \"\\t\\t\\t\", l)\n",
    "print(\"------------------------------------------------------------------------\")\n",
    "print(\"\\t   \",sum(freq), \"\\t\\t      \", sum(rel_freq), \"\\t\\t\\t\", sum(per_freq))"
   ]
  },
  {
   "cell_type": "code",
   "execution_count": 20,
   "id": "2b4d8269-46b6-4f87-b24d-612144e9c861",
   "metadata": {},
   "outputs": [
    {
     "data": {
      "image/png": "[encoded data removed]",
      "text/plain": [
       "<Figure size 2200x600 with 3 Axes>"
      ]
     },
     "metadata": {},
     "output_type": "display_data"
    }
   ],
   "source": [
    "# Create a figure and a set of subplots\n",
    "fig, axes = plt.subplots(nrows=1, ncols=3, figsize=(22, 6))  # Adjust the figure size to accommodate three subplots\n",
    "\n",
    "# Plotting the frequency histogram\n",
    "axes[0].bar(class_main, freq, color=\"skyblue\")\n",
    "axes[0].set_title(\"Frequency Histogram\")\n",
    "axes[0].set_ylabel('Frequency')\n",
    "axes[0].set_xlabel('Median Income of Countries')\n",
    "\n",
    "# Plotting the relative frequency histogram\n",
    "axes[1].bar(class_main, rel_freq, color=\"gold\")\n",
    "axes[1].set_title(\"Relative Frequency Histogram\")\n",
    "axes[1].set_ylabel('Relative Frequency')\n",
    "axes[1].set_xlabel('Median Income of Countries')\n",
    "\n",
    "# Plotting the percentage frequency histogram\n",
    "axes[2].bar(class_main, per_freq, color=\"lightgreen\")\n",
    "axes[2].set_title(\"Percentage Frequency Histogram\")\n",
    "axes[2].set_ylabel('Percentage Frequency')\n",
    "axes[2].set_xlabel('Median Income of Countries')\n",
    "\n",
    "# Display the plots\n",
    "plt.tight_layout()  # Adjust subplots to fit into figure area.\n",
    "plt.show()"
   ]
  },
  {
   "cell_type": "code",
   "execution_count": 21,
   "id": "ed745a3e-caa9-49a3-aba1-6441df94a666",
   "metadata": {},
   "outputs": [
    {
     "name": "stdout",
     "output_type": "stream",
     "text": [
      "State with highest median income: \n",
      "\n",
      "         State  Median_Income\n",
      "29  New Jersey          110.7\n",
      "\n",
      "State with lowest median income: \n",
      "\n",
      "    State  Median_Income\n",
      "11  Idaho           67.1\n"
     ]
    }
   ],
   "source": [
    "max_income = q45[q45['Median_Income']==q45['Median_Income'].max()]\n",
    "min_income = q45[q45['Median_Income']==q45['Median_Income'].min()]\n",
    "print(\"State with highest median income: \\n\")\n",
    "print(max_income)\n",
    "print(\"\\nState with lowest median income: \\n\")\n",
    "print(min_income)"
   ]
  },
  {
   "cell_type": "markdown",
   "id": "20adbe1e-e766-421d-a872-bed8dbe9cbbc",
   "metadata": {},
   "source": [
    "# Q46"
   ]
  },
  {
   "cell_type": "code",
   "execution_count": 22,
   "id": "e5da5d73-8ad3-4d5f-8ead-0e709630d024",
   "metadata": {},
   "outputs": [],
   "source": [
    "q46 = pd.read_excel('Population2012.xlsx')"
   ]
  },
  {
   "cell_type": "code",
   "execution_count": 23,
   "id": "6debc465-47c7-4834-b8df-8a433a87dee3",
   "metadata": {},
   "outputs": [
    {
     "data": {
      "text/html": [
       "<div>\n",
       "<style scoped>\n",
       "    .dataframe tbody tr th:only-of-type {\n",
       "        vertical-align: middle;\n",
       "    }\n",
       "\n",
       "    .dataframe tbody tr th {\n",
       "        vertical-align: top;\n",
       "    }\n",
       "\n",
       "    .dataframe thead th {\n",
       "        text-align: right;\n",
       "    }\n",
       "</style>\n",
       "<table border=\"1\" class=\"dataframe\">\n",
       "  <thead>\n",
       "    <tr style=\"text-align: right;\">\n",
       "      <th></th>\n",
       "      <th>State</th>\n",
       "      <th>Population</th>\n",
       "    </tr>\n",
       "  </thead>\n",
       "  <tbody>\n",
       "    <tr>\n",
       "      <th>0</th>\n",
       "      <td>Alabama</td>\n",
       "      <td>4.8</td>\n",
       "    </tr>\n",
       "    <tr>\n",
       "      <th>1</th>\n",
       "      <td>Alaska</td>\n",
       "      <td>0.7</td>\n",
       "    </tr>\n",
       "    <tr>\n",
       "      <th>2</th>\n",
       "      <td>Arizona</td>\n",
       "      <td>6.4</td>\n",
       "    </tr>\n",
       "    <tr>\n",
       "      <th>3</th>\n",
       "      <td>Arkansas</td>\n",
       "      <td>2.9</td>\n",
       "    </tr>\n",
       "    <tr>\n",
       "      <th>4</th>\n",
       "      <td>California</td>\n",
       "      <td>37.3</td>\n",
       "    </tr>\n",
       "  </tbody>\n",
       "</table>\n",
       "</div>"
      ],
      "text/plain": [
       "        State  Population\n",
       "0     Alabama         4.8\n",
       "1      Alaska         0.7\n",
       "2     Arizona         6.4\n",
       "3    Arkansas         2.9\n",
       "4  California        37.3"
      ]
     },
     "execution_count": 23,
     "metadata": {},
     "output_type": "execute_result"
    }
   ],
   "source": [
    "q46.head()"
   ]
  },
  {
   "cell_type": "code",
   "execution_count": 24,
   "id": "b6303955-226d-4fb1-8296-4eed57a08936",
   "metadata": {},
   "outputs": [
    {
     "name": "stdout",
     "output_type": "stream",
     "text": [
      "37.3\n",
      "0.6\n"
     ]
    }
   ],
   "source": [
    "population = q46['Population'].tolist()\n",
    "print(max(population))\n",
    "print(min(population))"
   ]
  },
  {
   "cell_type": "code",
   "execution_count": 25,
   "id": "994c5cb8-ff02-49eb-bbd8-538edba9a965",
   "metadata": {},
   "outputs": [
    {
     "data": {
      "text/plain": [
       "Population\n",
       "0.6     2\n",
       "0.7     2\n",
       "0.8     1\n",
       "0.9     2\n",
       "1.0     1\n",
       "1.3     2\n",
       "1.4     1\n",
       "1.6     1\n",
       "1.8     1\n",
       "1.9     1\n",
       "2.0     1\n",
       "2.7     1\n",
       "2.8     1\n",
       "2.9     2\n",
       "3.0     2\n",
       "3.6     1\n",
       "3.8     1\n",
       "4.3     2\n",
       "4.5     1\n",
       "4.6     1\n",
       "4.8     1\n",
       "5.0     1\n",
       "5.3     1\n",
       "5.7     1\n",
       "5.8     1\n",
       "6.0     1\n",
       "6.3     1\n",
       "6.4     1\n",
       "6.5     2\n",
       "6.7     1\n",
       "8.0     1\n",
       "8.8     1\n",
       "9.5     1\n",
       "9.7     1\n",
       "9.9     1\n",
       "11.5    1\n",
       "12.7    1\n",
       "12.8    1\n",
       "18.8    1\n",
       "19.4    1\n",
       "25.1    1\n",
       "37.3    1\n",
       "Name: count, dtype: int64"
      ]
     },
     "execution_count": 25,
     "metadata": {},
     "output_type": "execute_result"
    }
   ],
   "source": [
    "q46['Population'].value_counts().sort_index()"
   ]
  },
  {
   "cell_type": "code",
   "execution_count": 26,
   "id": "08885efd-2630-47ab-a3ae-d805a16fa8d8",
   "metadata": {},
   "outputs": [],
   "source": [
    "class_main  =[\n",
    "    '0.0-2.4  ', \n",
    "    '2.5-2.9  ', \n",
    "    '3.0-3.4  ', \n",
    "    '3.5-3.9  ', \n",
    "    '4.0-4.4  ', \n",
    "    '4.5-4.9  ', \n",
    "    '5.0-5.4  ',\n",
    "    '5.5-5.9  ',\n",
    "    '6.0-6.4  ',\n",
    "    '6.5-6.9  ',\n",
    "    '8.0-8.4  ',\n",
    "    '8.5-8.9  ',\n",
    "    '9.0-9.4  ',\n",
    "    '9.5-9.9  ',\n",
    "    '11.5-11.9',\n",
    "    '12.0-12.4',\n",
    "    '12.5-12.9',\n",
    "    '18.5-18.9',\n",
    "    '19.1-19.4',\n",
    "    '25.0-25.4',\n",
    "    '37.0-37.4'\n",
    "]\n",
    "categories = [[] for _ in range(21)]\n",
    "def find_category(value):\n",
    "    for index, range_str in enumerate(class_main):\n",
    "        # Splitting each range on '-' and converting to float\n",
    "        lower, upper = map(float, range_str.split('-'))\n",
    "        if lower <= value <= upper:\n",
    "            return index\n",
    "    return None \n",
    "\n",
    "for i in population:\n",
    "    category_index = find_category(i)\n",
    "    if category_index is not None:\n",
    "        categories[category_index].append(i)\n",
    "\n",
    "\n",
    "total = q46.shape[0]\n",
    "freq=[]\n",
    "rel_freq=[]\n",
    "per_freq=[]\n",
    "freq = [len(j) for j in categories]\n",
    "rel_freq = [round(i/total, 4) for i in freq]\n",
    "per_freq = [round((i/total)*100,4) for i in freq]"
   ]
  },
  {
   "cell_type": "code",
   "execution_count": 27,
   "id": "41fae102-d0ff-4948-b4df-f489b647a942",
   "metadata": {},
   "outputs": [
    {
     "name": "stdout",
     "output_type": "stream",
     "text": [
      "----------------------------Tabular Summary----------------------------\n",
      "\n",
      "Class\t  Frequency\tRelative Frequency\t Percent Frequency\n",
      "\n",
      "0.0-2.4   :   15 \t\t 0.3 \t\t      30.0\n",
      "2.5-2.9   :   4 \t\t 0.08 \t\t      8.0\n",
      "3.0-3.4   :   2 \t\t 0.04 \t\t      4.0\n",
      "3.5-3.9   :   2 \t\t 0.04 \t\t      4.0\n",
      "4.0-4.4   :   2 \t\t 0.04 \t\t      4.0\n",
      "4.5-4.9   :   3 \t\t 0.06 \t\t      6.0\n",
      "5.0-5.4   :   2 \t\t 0.04 \t\t      4.0\n",
      "5.5-5.9   :   2 \t\t 0.04 \t\t      4.0\n",
      "6.0-6.4   :   3 \t\t 0.06 \t\t      6.0\n",
      "6.5-6.9   :   3 \t\t 0.06 \t\t      6.0\n",
      "8.0-8.4   :   1 \t\t 0.02 \t\t      2.0\n",
      "8.5-8.9   :   1 \t\t 0.02 \t\t      2.0\n",
      "9.0-9.4   :   0 \t\t 0.0 \t\t      0.0\n",
      "9.5-9.9   :   3 \t\t 0.06 \t\t      6.0\n",
      "11.5-11.9 :   1 \t\t 0.02 \t\t      2.0\n",
      "12.0-12.4 :   0 \t\t 0.0 \t\t      0.0\n",
      "12.5-12.9 :   2 \t\t 0.04 \t\t      4.0\n",
      "18.5-18.9 :   1 \t\t 0.02 \t\t      2.0\n",
      "19.1-19.4 :   1 \t\t 0.02 \t\t      2.0\n",
      "25.0-25.4 :   1 \t\t 0.02 \t\t      2.0\n",
      "37.0-37.4 :   1 \t\t 0.02 \t\t      2.0\n",
      "------------------------------------------------------------------------\n",
      "\t    50 \t\t         1.0 \t\t      100.0\n"
     ]
    }
   ],
   "source": [
    "print(\"----------------------------Tabular Summary----------------------------\\n\")\n",
    "print(\"Class\\t  Frequency\\tRelative Frequency\\t Percent Frequency\\n\")\n",
    "for i,j,k,l in zip(class_main,freq,rel_freq,per_freq):\n",
    "    print(i,\":  \", j,\"\\t\\t\",k, \"\\t\\t     \", l)\n",
    "print(\"------------------------------------------------------------------------\")\n",
    "print(\"\\t   \",sum(freq), \"\\t\\t        \", sum(rel_freq), \"\\t\\t     \", sum(per_freq))"
   ]
  },
  {
   "cell_type": "code",
   "execution_count": 28,
   "id": "206421dc-4235-4ac8-9aae-66a8a17dcd32",
   "metadata": {},
   "outputs": [
    {
     "data": {
      "image/png": "[encoded data removed]",
      "text/plain": [
       "<Figure size 2200x800 with 2 Axes>"
      ]
     },
     "metadata": {},
     "output_type": "display_data"
    }
   ],
   "source": [
    "fig, axes = plt.subplots(nrows=1, ncols=2, figsize=(22,8))\n",
    "\n",
    "# Plotting the frequency histogram\n",
    "axes[0].bar(class_main, freq, color=\"skyblue\")\n",
    "axes[0].set_title(\"Frequency Histogram\")\n",
    "axes[0].set_ylabel('Frequency')\n",
    "axes[0].set_xlabel('Population in Millions')\n",
    "\n",
    "# Plotting the percentage frequency histogram\n",
    "axes[1].bar(class_main, per_freq, color=\"lightgreen\")\n",
    "axes[1].set_title(\"Percentage Frequency Histogram\")\n",
    "axes[1].set_ylabel('Percentage Frequency')\n",
    "axes[1].set_xlabel('Population in Millions')\n",
    "\n",
    "# Display the plots\n",
    "plt.tight_layout()  # Adjust subplots to fit into figure area.\n",
    "plt.show()"
   ]
  },
  {
   "cell_type": "markdown",
   "id": "2c877257-6369-4b1f-aa45-243f4897e4b5",
   "metadata": {},
   "source": [
    "# Q47"
   ]
  },
  {
   "cell_type": "code",
   "execution_count": 29,
   "id": "4583feec-fe29-410b-be51-945fc9ff29c7",
   "metadata": {},
   "outputs": [
    {
     "name": "stdout",
     "output_type": "stream",
     "text": [
      "Requirement already satisfied: stemgraphic in ./Documents/chrome-downloads/anaconda/anaconda3/lib/python3.12/site-packages (0.9.1)\n",
      "Requirement already satisfied: docopt in ./Documents/chrome-downloads/anaconda/anaconda3/lib/python3.12/site-packages (from stemgraphic) (0.6.2)\n",
      "Requirement already satisfied: matplotlib in ./Documents/chrome-downloads/anaconda/anaconda3/lib/python3.12/site-packages (from stemgraphic) (3.8.4)\n",
      "Requirement already satisfied: pandas in ./Documents/chrome-downloads/anaconda/anaconda3/lib/python3.12/site-packages (from stemgraphic) (2.2.2)\n",
      "Requirement already satisfied: seaborn in ./Documents/chrome-downloads/anaconda/anaconda3/lib/python3.12/site-packages (from stemgraphic) (0.13.2)\n",
      "Requirement already satisfied: contourpy>=1.0.1 in ./Documents/chrome-downloads/anaconda/anaconda3/lib/python3.12/site-packages (from matplotlib->stemgraphic) (1.2.0)\n",
      "Requirement already satisfied: cycler>=0.10 in ./Documents/chrome-downloads/anaconda/anaconda3/lib/python3.12/site-packages (from matplotlib->stemgraphic) (0.11.0)\n",
      "Requirement already satisfied: fonttools>=4.22.0 in ./Documents/chrome-downloads/anaconda/anaconda3/lib/python3.12/site-packages (from matplotlib->stemgraphic) (4.51.0)\n",
      "Requirement already satisfied: kiwisolver>=1.3.1 in ./Documents/chrome-downloads/anaconda/anaconda3/lib/python3.12/site-packages (from matplotlib->stemgraphic) (1.4.4)\n",
      "Requirement already satisfied: numpy>=1.21 in ./Documents/chrome-downloads/anaconda/anaconda3/lib/python3.12/site-packages (from matplotlib->stemgraphic) (1.26.4)\n",
      "Requirement already satisfied: packaging>=20.0 in ./Documents/chrome-downloads/anaconda/anaconda3/lib/python3.12/site-packages (from matplotlib->stemgraphic) (23.2)\n",
      "Requirement already satisfied: pillow>=8 in ./Documents/chrome-downloads/anaconda/anaconda3/lib/python3.12/site-packages (from matplotlib->stemgraphic) (10.3.0)\n",
      "Requirement already satisfied: pyparsing>=2.3.1 in ./Documents/chrome-downloads/anaconda/anaconda3/lib/python3.12/site-packages (from matplotlib->stemgraphic) (3.0.9)\n",
      "Requirement already satisfied: python-dateutil>=2.7 in ./Documents/chrome-downloads/anaconda/anaconda3/lib/python3.12/site-packages (from matplotlib->stemgraphic) (2.9.0.post0)\n",
      "Requirement already satisfied: pytz>=2020.1 in ./Documents/chrome-downloads/anaconda/anaconda3/lib/python3.12/site-packages (from pandas->stemgraphic) (2024.1)\n",
      "Requirement already satisfied: tzdata>=2022.7 in ./Documents/chrome-downloads/anaconda/anaconda3/lib/python3.12/site-packages (from pandas->stemgraphic) (2023.3)\n",
      "Requirement already satisfied: six>=1.5 in ./Documents/chrome-downloads/anaconda/anaconda3/lib/python3.12/site-packages (from python-dateutil>=2.7->matplotlib->stemgraphic) (1.16.0)\n"
     ]
    }
   ],
   "source": [
    "!pip install stemgraphic"
   ]
  },
  {
   "cell_type": "code",
   "execution_count": 30,
   "id": "bbb4a1be-6fc6-49c2-b3f2-c42e436fdf09",
   "metadata": {},
   "outputs": [],
   "source": [
    "q47 = pd.read_excel('StartUps.xlsx')"
   ]
  },
  {
   "cell_type": "code",
   "execution_count": 31,
   "id": "eb49170b-4fe8-40f0-832f-7702cf6a5938",
   "metadata": {},
   "outputs": [
    {
     "data": {
      "text/html": [
       "<div>\n",
       "<style scoped>\n",
       "    .dataframe tbody tr th:only-of-type {\n",
       "        vertical-align: middle;\n",
       "    }\n",
       "\n",
       "    .dataframe tbody tr th {\n",
       "        vertical-align: top;\n",
       "    }\n",
       "\n",
       "    .dataframe thead th {\n",
       "        text-align: right;\n",
       "    }\n",
       "</style>\n",
       "<table border=\"1\" class=\"dataframe\">\n",
       "  <thead>\n",
       "    <tr style=\"text-align: right;\">\n",
       "      <th></th>\n",
       "      <th>Amount Raised (in Millions)</th>\n",
       "    </tr>\n",
       "  </thead>\n",
       "  <tbody>\n",
       "    <tr>\n",
       "      <th>0</th>\n",
       "      <td>81</td>\n",
       "    </tr>\n",
       "    <tr>\n",
       "      <th>1</th>\n",
       "      <td>80</td>\n",
       "    </tr>\n",
       "    <tr>\n",
       "      <th>2</th>\n",
       "      <td>69</td>\n",
       "    </tr>\n",
       "    <tr>\n",
       "      <th>3</th>\n",
       "      <td>73</td>\n",
       "    </tr>\n",
       "    <tr>\n",
       "      <th>4</th>\n",
       "      <td>192</td>\n",
       "    </tr>\n",
       "    <tr>\n",
       "      <th>5</th>\n",
       "      <td>91</td>\n",
       "    </tr>\n",
       "    <tr>\n",
       "      <th>6</th>\n",
       "      <td>47</td>\n",
       "    </tr>\n",
       "    <tr>\n",
       "      <th>7</th>\n",
       "      <td>154</td>\n",
       "    </tr>\n",
       "    <tr>\n",
       "      <th>8</th>\n",
       "      <td>48</td>\n",
       "    </tr>\n",
       "    <tr>\n",
       "      <th>9</th>\n",
       "      <td>54</td>\n",
       "    </tr>\n",
       "    <tr>\n",
       "      <th>10</th>\n",
       "      <td>61</td>\n",
       "    </tr>\n",
       "    <tr>\n",
       "      <th>11</th>\n",
       "      <td>51</td>\n",
       "    </tr>\n",
       "    <tr>\n",
       "      <th>12</th>\n",
       "      <td>119</td>\n",
       "    </tr>\n",
       "    <tr>\n",
       "      <th>13</th>\n",
       "      <td>50</td>\n",
       "    </tr>\n",
       "    <tr>\n",
       "      <th>14</th>\n",
       "      <td>18</td>\n",
       "    </tr>\n",
       "    <tr>\n",
       "      <th>15</th>\n",
       "      <td>272</td>\n",
       "    </tr>\n",
       "    <tr>\n",
       "      <th>16</th>\n",
       "      <td>24</td>\n",
       "    </tr>\n",
       "    <tr>\n",
       "      <th>17</th>\n",
       "      <td>72</td>\n",
       "    </tr>\n",
       "    <tr>\n",
       "      <th>18</th>\n",
       "      <td>118</td>\n",
       "    </tr>\n",
       "    <tr>\n",
       "      <th>19</th>\n",
       "      <td>112</td>\n",
       "    </tr>\n",
       "    <tr>\n",
       "      <th>20</th>\n",
       "      <td>103</td>\n",
       "    </tr>\n",
       "    <tr>\n",
       "      <th>21</th>\n",
       "      <td>130</td>\n",
       "    </tr>\n",
       "    <tr>\n",
       "      <th>22</th>\n",
       "      <td>81</td>\n",
       "    </tr>\n",
       "    <tr>\n",
       "      <th>23</th>\n",
       "      <td>110</td>\n",
       "    </tr>\n",
       "    <tr>\n",
       "      <th>24</th>\n",
       "      <td>54</td>\n",
       "    </tr>\n",
       "    <tr>\n",
       "      <th>25</th>\n",
       "      <td>58</td>\n",
       "    </tr>\n",
       "    <tr>\n",
       "      <th>26</th>\n",
       "      <td>57</td>\n",
       "    </tr>\n",
       "    <tr>\n",
       "      <th>27</th>\n",
       "      <td>38</td>\n",
       "    </tr>\n",
       "    <tr>\n",
       "      <th>28</th>\n",
       "      <td>40</td>\n",
       "    </tr>\n",
       "    <tr>\n",
       "      <th>29</th>\n",
       "      <td>129</td>\n",
       "    </tr>\n",
       "    <tr>\n",
       "      <th>30</th>\n",
       "      <td>166</td>\n",
       "    </tr>\n",
       "    <tr>\n",
       "      <th>31</th>\n",
       "      <td>77</td>\n",
       "    </tr>\n",
       "    <tr>\n",
       "      <th>32</th>\n",
       "      <td>60</td>\n",
       "    </tr>\n",
       "    <tr>\n",
       "      <th>33</th>\n",
       "      <td>21</td>\n",
       "    </tr>\n",
       "    <tr>\n",
       "      <th>34</th>\n",
       "      <td>49</td>\n",
       "    </tr>\n",
       "    <tr>\n",
       "      <th>35</th>\n",
       "      <td>54</td>\n",
       "    </tr>\n",
       "    <tr>\n",
       "      <th>36</th>\n",
       "      <td>78</td>\n",
       "    </tr>\n",
       "    <tr>\n",
       "      <th>37</th>\n",
       "      <td>131</td>\n",
       "    </tr>\n",
       "    <tr>\n",
       "      <th>38</th>\n",
       "      <td>49</td>\n",
       "    </tr>\n",
       "    <tr>\n",
       "      <th>39</th>\n",
       "      <td>156</td>\n",
       "    </tr>\n",
       "    <tr>\n",
       "      <th>40</th>\n",
       "      <td>168</td>\n",
       "    </tr>\n",
       "    <tr>\n",
       "      <th>41</th>\n",
       "      <td>78</td>\n",
       "    </tr>\n",
       "    <tr>\n",
       "      <th>42</th>\n",
       "      <td>20</td>\n",
       "    </tr>\n",
       "    <tr>\n",
       "      <th>43</th>\n",
       "      <td>60</td>\n",
       "    </tr>\n",
       "    <tr>\n",
       "      <th>44</th>\n",
       "      <td>63</td>\n",
       "    </tr>\n",
       "    <tr>\n",
       "      <th>45</th>\n",
       "      <td>40</td>\n",
       "    </tr>\n",
       "    <tr>\n",
       "      <th>46</th>\n",
       "      <td>78</td>\n",
       "    </tr>\n",
       "    <tr>\n",
       "      <th>47</th>\n",
       "      <td>52</td>\n",
       "    </tr>\n",
       "    <tr>\n",
       "      <th>48</th>\n",
       "      <td>55</td>\n",
       "    </tr>\n",
       "    <tr>\n",
       "      <th>49</th>\n",
       "      <td>31</td>\n",
       "    </tr>\n",
       "  </tbody>\n",
       "</table>\n",
       "</div>"
      ],
      "text/plain": [
       "    Amount Raised (in Millions)\n",
       "0                            81\n",
       "1                            80\n",
       "2                            69\n",
       "3                            73\n",
       "4                           192\n",
       "5                            91\n",
       "6                            47\n",
       "7                           154\n",
       "8                            48\n",
       "9                            54\n",
       "10                           61\n",
       "11                           51\n",
       "12                          119\n",
       "13                           50\n",
       "14                           18\n",
       "15                          272\n",
       "16                           24\n",
       "17                           72\n",
       "18                          118\n",
       "19                          112\n",
       "20                          103\n",
       "21                          130\n",
       "22                           81\n",
       "23                          110\n",
       "24                           54\n",
       "25                           58\n",
       "26                           57\n",
       "27                           38\n",
       "28                           40\n",
       "29                          129\n",
       "30                          166\n",
       "31                           77\n",
       "32                           60\n",
       "33                           21\n",
       "34                           49\n",
       "35                           54\n",
       "36                           78\n",
       "37                          131\n",
       "38                           49\n",
       "39                          156\n",
       "40                          168\n",
       "41                           78\n",
       "42                           20\n",
       "43                           60\n",
       "44                           63\n",
       "45                           40\n",
       "46                           78\n",
       "47                           52\n",
       "48                           55\n",
       "49                           31"
      ]
     },
     "execution_count": 31,
     "metadata": {},
     "output_type": "execute_result"
    }
   ],
   "source": [
    "q47"
   ]
  },
  {
   "cell_type": "code",
   "execution_count": 32,
   "id": "d5360227-10c5-49a1-930b-af628306115b",
   "metadata": {},
   "outputs": [],
   "source": [
    "q47.rename(columns={'Amount Raised (in Millions)':'a'}, inplace=True)"
   ]
  },
  {
   "cell_type": "code",
   "execution_count": 33,
   "id": "d6501307-b800-4daf-a800-521f0515f036",
   "metadata": {},
   "outputs": [
    {
     "data": {
      "text/plain": [
       "a\n",
       "18     1\n",
       "20     1\n",
       "21     1\n",
       "24     1\n",
       "31     1\n",
       "38     1\n",
       "40     2\n",
       "47     1\n",
       "48     1\n",
       "49     2\n",
       "50     1\n",
       "51     1\n",
       "52     1\n",
       "54     3\n",
       "55     1\n",
       "57     1\n",
       "58     1\n",
       "60     2\n",
       "61     1\n",
       "63     1\n",
       "69     1\n",
       "72     1\n",
       "73     1\n",
       "77     1\n",
       "78     3\n",
       "80     1\n",
       "81     2\n",
       "91     1\n",
       "103    1\n",
       "110    1\n",
       "112    1\n",
       "118    1\n",
       "119    1\n",
       "129    1\n",
       "130    1\n",
       "131    1\n",
       "154    1\n",
       "156    1\n",
       "166    1\n",
       "168    1\n",
       "192    1\n",
       "272    1\n",
       "Name: count, dtype: int64"
      ]
     },
     "execution_count": 33,
     "metadata": {},
     "output_type": "execute_result"
    }
   ],
   "source": [
    "q47['a'].value_counts().sort_index()"
   ]
  },
  {
   "cell_type": "code",
   "execution_count": 34,
   "id": "4b58b50d-b6a1-45ce-a310-509c21c086ec",
   "metadata": {},
   "outputs": [],
   "source": [
    "a = q47.a.tolist()"
   ]
  },
  {
   "cell_type": "code",
   "execution_count": 35,
   "id": "2481cef3-a03a-40aa-8410-95a8b3c3a100",
   "metadata": {},
   "outputs": [
    {
     "name": "stdout",
     "output_type": "stream",
     "text": [
      "[1, 2, 3, 4, 5, 6, 7, 8, 9, 10, 11, 12, 13, 15, 16, 19, 27]\n"
     ]
    }
   ],
   "source": [
    "f=[]\n",
    "for i in a:\n",
    "    f.append(i//10)\n",
    "f = list(set(f))\n",
    "f.sort()\n",
    "print(f)"
   ]
  },
  {
   "cell_type": "code",
   "execution_count": 36,
   "id": "5566e0bb-1b2e-49c3-9c5b-356186a7419c",
   "metadata": {},
   "outputs": [],
   "source": [
    "categories = [[] for _ in range(len(f))]\n",
    "for i in a:\n",
    "    if i < 100:\n",
    "        o = int(str(i)[0])  \n",
    "    else:\n",
    "        o = int(str(i)[:2])\n",
    "    if o in f:\n",
    "        if o==16:\n",
    "            o=15\n",
    "        if o==15:\n",
    "            o=14\n",
    "        if o==19:\n",
    "            o=16\n",
    "        if o==27:\n",
    "            o=17\n",
    "        categories[o-1].append(i)"
   ]
  },
  {
   "cell_type": "code",
   "execution_count": 37,
   "id": "6411e742-29aa-4842-b63e-5f190482fbc2",
   "metadata": {},
   "outputs": [
    {
     "data": {
      "text/plain": [
       "[[18],\n",
       " [24, 21, 20],\n",
       " [38, 31],\n",
       " [47, 48, 40, 49, 49, 40],\n",
       " [54, 51, 50, 54, 58, 57, 54, 52, 55],\n",
       " [69, 61, 60, 60, 63],\n",
       " [73, 72, 77, 78, 78, 78],\n",
       " [81, 80, 81],\n",
       " [91],\n",
       " [103],\n",
       " [119, 118, 112, 110],\n",
       " [129],\n",
       " [130, 131],\n",
       " [154, 166, 156, 168],\n",
       " [],\n",
       " [192],\n",
       " [272]]"
      ]
     },
     "execution_count": 37,
     "metadata": {},
     "output_type": "execute_result"
    }
   ],
   "source": [
    "categories"
   ]
  },
  {
   "cell_type": "code",
   "execution_count": 38,
   "id": "8f35894e-d1e1-44ee-bf32-014f8f857879",
   "metadata": {},
   "outputs": [
    {
     "name": "stdout",
     "output_type": "stream",
     "text": [
      "1 |  [18]\n",
      "2 |  [24, 21, 20]\n",
      "3 |  [38, 31]\n",
      "4 |  [47, 48, 40, 49, 49, 40]\n",
      "5 |  [54, 51, 50, 54, 58, 57, 54, 52, 55]\n",
      "6 |  [69, 61, 60, 60, 63]\n",
      "7 |  [73, 72, 77, 78, 78, 78]\n",
      "8 |  [81, 80, 81]\n",
      "9 |  [91]\n",
      "10 |  [103]\n",
      "11 |  [119, 118, 112, 110]\n",
      "12 |  [129]\n",
      "13 |  [130, 131]\n",
      "15 |  [154, 166, 156, 168]\n",
      "16 |  []\n",
      "19 |  [192]\n",
      "27 |  [272]\n"
     ]
    }
   ],
   "source": [
    "for i, j in zip(f,categories):\n",
    "    print(i,\"| \",j)"
   ]
  },
  {
   "cell_type": "code",
   "execution_count": null,
   "id": "c2d81a89-b224-4067-ad0d-01cc4cf081a1",
   "metadata": {},
   "outputs": [],
   "source": []
  },
  {
   "cell_type": "markdown",
   "id": "be314fef-0289-4c41-b196-4c5d87c5951c",
   "metadata": {},
   "source": [
    "# Q48"
   ]
  },
  {
   "cell_type": "code",
   "execution_count": 39,
   "id": "9565065b-53a5-425c-aa73-6ecb4b798907",
   "metadata": {},
   "outputs": [],
   "source": [
    "q48 = pd.read_excel('BBB.xlsx')"
   ]
  },
  {
   "cell_type": "code",
   "execution_count": 40,
   "id": "85b28b37-6835-44f2-a64d-94fbee20ad19",
   "metadata": {},
   "outputs": [
    {
     "data": {
      "text/html": [
       "<div>\n",
       "<style scoped>\n",
       "    .dataframe tbody tr th:only-of-type {\n",
       "        vertical-align: middle;\n",
       "    }\n",
       "\n",
       "    .dataframe tbody tr th {\n",
       "        vertical-align: top;\n",
       "    }\n",
       "\n",
       "    .dataframe thead th {\n",
       "        text-align: right;\n",
       "    }\n",
       "</style>\n",
       "<table border=\"1\" class=\"dataframe\">\n",
       "  <thead>\n",
       "    <tr style=\"text-align: right;\">\n",
       "      <th></th>\n",
       "      <th>Industry</th>\n",
       "    </tr>\n",
       "  </thead>\n",
       "  <tbody>\n",
       "    <tr>\n",
       "      <th>0</th>\n",
       "      <td>Cable</td>\n",
       "    </tr>\n",
       "    <tr>\n",
       "      <th>1</th>\n",
       "      <td>Cable</td>\n",
       "    </tr>\n",
       "    <tr>\n",
       "      <th>2</th>\n",
       "      <td>Car</td>\n",
       "    </tr>\n",
       "    <tr>\n",
       "      <th>3</th>\n",
       "      <td>Collection</td>\n",
       "    </tr>\n",
       "    <tr>\n",
       "      <th>4</th>\n",
       "      <td>Cell</td>\n",
       "    </tr>\n",
       "  </tbody>\n",
       "</table>\n",
       "</div>"
      ],
      "text/plain": [
       "     Industry\n",
       "0       Cable\n",
       "1       Cable\n",
       "2         Car\n",
       "3  Collection\n",
       "4        Cell"
      ]
     },
     "execution_count": 40,
     "metadata": {},
     "output_type": "execute_result"
    }
   ],
   "source": [
    "q48.head()"
   ]
  },
  {
   "cell_type": "code",
   "execution_count": 41,
   "id": "645ca72e-1337-4f26-9ee6-3f0cfa6b80a8",
   "metadata": {},
   "outputs": [
    {
     "data": {
      "text/plain": [
       "['Cable', 'Car', 'Collection', 'Cell', 'Bank']"
      ]
     },
     "execution_count": 41,
     "metadata": {},
     "output_type": "execute_result"
    }
   ],
   "source": [
    "class_main = q48['Industry'].unique().tolist()\n",
    "class_main"
   ]
  },
  {
   "cell_type": "code",
   "execution_count": 42,
   "id": "e7daec71-f819-4cf6-9a39-be57d5ec4f39",
   "metadata": {},
   "outputs": [],
   "source": [
    "freq=[]\n",
    "rel_freq= []\n",
    "per_freq = []\n",
    "total = q48.shape[0]\n",
    "industry = q48['Industry'].tolist()\n",
    "freq = q48['Industry'].value_counts()\n",
    "rel_freq = [round(i/total,4) for i in freq]\n",
    "per_freq = [i*100 for i in rel_freq]"
   ]
  },
  {
   "cell_type": "code",
   "execution_count": 43,
   "id": "843284a4-a927-481d-8c8d-4c5ee38f065d",
   "metadata": {},
   "outputs": [
    {
     "name": "stdout",
     "output_type": "stream",
     "text": [
      "----------------------------Tabular Summary----------------------------\n",
      "\n",
      "Class\t  Frequency\tRelative Frequency\t Percent Frequency\n",
      "\n",
      "Cable :   60 \t\t 0.3 \t\t      30.0\n",
      "Car :   44 \t\t 0.22 \t\t      22.0\n",
      "Collection :   42 \t\t 0.21 \t\t      21.0\n",
      "Cell :   28 \t\t 0.14 \t\t      14.000000000000002\n",
      "Bank :   26 \t\t 0.13 \t\t      13.0\n",
      "------------------------------------------------------------------------\n",
      "\t    200 \t\t         1.0 \t\t      100.0\n"
     ]
    }
   ],
   "source": [
    "print(\"----------------------------Tabular Summary----------------------------\\n\")\n",
    "print(\"Class\\t  Frequency\\tRelative Frequency\\t Percent Frequency\\n\")\n",
    "for i,j,k,l in zip(class_main,freq,rel_freq,per_freq):\n",
    "    print(i,\":  \", j,\"\\t\\t\",k, \"\\t\\t     \", l)\n",
    "print(\"------------------------------------------------------------------------\")\n",
    "print(\"\\t   \",sum(freq), \"\\t\\t        \", sum(rel_freq), \"\\t\\t     \", sum(per_freq))"
   ]
  },
  {
   "cell_type": "code",
   "execution_count": 44,
   "id": "8de3c4cc-c69f-4be4-a75e-ff647fef28db",
   "metadata": {},
   "outputs": [
    {
     "data": {
      "image/png": "[encoded data removed]",
      "text/plain": [
       "<Figure size 2200x800 with 2 Axes>"
      ]
     },
     "metadata": {},
     "output_type": "display_data"
    }
   ],
   "source": [
    "fig, axes = plt.subplots(nrows=1, ncols=2, figsize=(22,8))\n",
    "\n",
    "# Plotting the frequency histogram\n",
    "axes[0].bar(class_main, freq, color=\"skyblue\")\n",
    "axes[0].set_title(\"Frequency Histogram\")\n",
    "axes[0].set_ylabel('Frequency')\n",
    "axes[0].set_xlabel('Complaint reported to BBB')\n",
    "\n",
    "# Plotting the percentage frequency histogram\n",
    "axes[1].bar(class_main, per_freq, color=\"lightgreen\")\n",
    "axes[1].set_title(\"Percentage Frequency Histogram\")\n",
    "axes[1].set_ylabel('Percentage Frequency')\n",
    "axes[1].set_xlabel('Complaint reported to BBB')\n",
    "\n",
    "# Display the plots\n",
    "plt.tight_layout() \n",
    "plt.show()"
   ]
  },
  {
   "cell_type": "markdown",
   "id": "2fa53243-851a-4d01-a48f-84353b65255f",
   "metadata": {},
   "source": [
    "# Q49"
   ]
  },
  {
   "cell_type": "code",
   "execution_count": 45,
   "id": "d4e8e093-b5f9-40ed-b426-2f5dbb65884e",
   "metadata": {},
   "outputs": [],
   "source": [
    "q49 = pd.read_excel('StocksBeta.xlsx')"
   ]
  },
  {
   "cell_type": "code",
   "execution_count": 46,
   "id": "1320d7bf-3f81-46c2-85c1-34d9c077328e",
   "metadata": {},
   "outputs": [
    {
     "data": {
      "text/html": [
       "<div>\n",
       "<style scoped>\n",
       "    .dataframe tbody tr th:only-of-type {\n",
       "        vertical-align: middle;\n",
       "    }\n",
       "\n",
       "    .dataframe tbody tr th {\n",
       "        vertical-align: top;\n",
       "    }\n",
       "\n",
       "    .dataframe thead th {\n",
       "        text-align: right;\n",
       "    }\n",
       "</style>\n",
       "<table border=\"1\" class=\"dataframe\">\n",
       "  <thead>\n",
       "    <tr style=\"text-align: right;\">\n",
       "      <th></th>\n",
       "      <th>Company</th>\n",
       "      <th>Beta</th>\n",
       "    </tr>\n",
       "  </thead>\n",
       "  <tbody>\n",
       "    <tr>\n",
       "      <th>0</th>\n",
       "      <td>3M Company</td>\n",
       "      <td>1.23</td>\n",
       "    </tr>\n",
       "    <tr>\n",
       "      <th>1</th>\n",
       "      <td>American Express Company</td>\n",
       "      <td>1.24</td>\n",
       "    </tr>\n",
       "    <tr>\n",
       "      <th>2</th>\n",
       "      <td>AT&amp;T Inc</td>\n",
       "      <td>0.18</td>\n",
       "    </tr>\n",
       "    <tr>\n",
       "      <th>3</th>\n",
       "      <td>Boeing Company</td>\n",
       "      <td>0.99</td>\n",
       "    </tr>\n",
       "    <tr>\n",
       "      <th>4</th>\n",
       "      <td>Caterpillar Inc</td>\n",
       "      <td>1.20</td>\n",
       "    </tr>\n",
       "  </tbody>\n",
       "</table>\n",
       "</div>"
      ],
      "text/plain": [
       "                    Company  Beta\n",
       "0                3M Company  1.23\n",
       "1  American Express Company  1.24\n",
       "2                  AT&T Inc  0.18\n",
       "3            Boeing Company  0.99\n",
       "4           Caterpillar Inc  1.20"
      ]
     },
     "execution_count": 46,
     "metadata": {},
     "output_type": "execute_result"
    }
   ],
   "source": [
    "q49.head()"
   ]
  },
  {
   "cell_type": "code",
   "execution_count": 47,
   "id": "f08caa55-2aa9-4ec3-a354-9ab5027cdadd",
   "metadata": {},
   "outputs": [],
   "source": [
    "total = q49.shape[0]\n",
    "class_main = [\n",
    "    '0.0-0.35 ',\n",
    "    '0.36-0.71',\n",
    "    '0.72-1.07',\n",
    "    '1.08-1.43',\n",
    "    '1.44-1.79 ',\n",
    "    '1.8-2.15 '\n",
    "]\n",
    "beta = q49['Beta'].tolist()\n",
    "categories = [[] for _ in range(6)]\n",
    "def find_category(value):\n",
    "    for index, range_str in enumerate(class_main):\n",
    "        # Splitting each range on '-' and converting to float\n",
    "        lower, upper = map(float, range_str.split('-'))\n",
    "        if lower <= value <= upper:\n",
    "            return index\n",
    "    return None \n",
    "\n",
    "for i in beta:\n",
    "    category_index = find_category(i)\n",
    "    if category_index is not None:\n",
    "        categories[category_index].append(i)\n",
    "\n",
    "freq = [len(j) for j in categories]\n",
    "rel_freq = [round(i/total,2) for i in freq]\n",
    "per_freq = [round(i*100,2) for i in rel_freq]"
   ]
  },
  {
   "cell_type": "code",
   "execution_count": 48,
   "id": "5adde5bf-11be-407b-b267-6ca2c400aa08",
   "metadata": {},
   "outputs": [
    {
     "name": "stdout",
     "output_type": "stream",
     "text": [
      "----------------------------Tabular Summary----------------------------\n",
      "\n",
      "Class\t  Frequency\tRelative Frequency\t Percent Frequency\n",
      "\n",
      "0.0-0.35  :   3 \t\t 0.1 \t\t      10.0\n",
      "0.36-0.71 :   5 \t\t 0.17 \t\t      17.0\n",
      "0.72-1.07 :   11 \t\t 0.37 \t\t      37.0\n",
      "1.08-1.43 :   9 \t\t 0.3 \t\t      30.0\n",
      "1.44-1.79  :   1 \t\t 0.03 \t\t      3.0\n",
      "1.8-2.15  :   1 \t\t 0.03 \t\t      3.0\n",
      "------------------------------------------------------------------------\n",
      "\t    30 \t\t         1.0 \t\t      100.0\n"
     ]
    }
   ],
   "source": [
    "print(\"----------------------------Tabular Summary----------------------------\\n\")\n",
    "print(\"Class\\t  Frequency\\tRelative Frequency\\t Percent Frequency\\n\")\n",
    "for i,j,k,l in zip(class_main,freq,rel_freq,per_freq):\n",
    "    print(i,\":  \", j,\"\\t\\t\",k, \"\\t\\t     \", l)\n",
    "print(\"------------------------------------------------------------------------\")\n",
    "print(\"\\t   \",sum(freq), \"\\t\\t        \", sum(rel_freq), \"\\t\\t     \", sum(per_freq))"
   ]
  },
  {
   "cell_type": "code",
   "execution_count": 49,
   "id": "c81cee27-b6b2-477f-8a36-b18df0443a62",
   "metadata": {},
   "outputs": [
    {
     "data": {
      "image/png": "[encoded data removed]",
      "text/plain": [
       "<Figure size 2200x800 with 2 Axes>"
      ]
     },
     "metadata": {},
     "output_type": "display_data"
    }
   ],
   "source": [
    "fig, axes = plt.subplots(nrows=1, ncols=2, figsize=(22,8))\n",
    "\n",
    "# Plotting the frequency histogram\n",
    "axes[0].bar(class_main, freq, color=\"skyblue\")\n",
    "axes[0].set_title(\"Frequency Histogram\")\n",
    "axes[0].set_ylabel('Frequency')\n",
    "axes[0].set_xlabel('Beta')\n",
    "\n",
    "# Plotting the percentage frequency histogram\n",
    "axes[1].bar(class_main, per_freq, color=\"lightgreen\")\n",
    "axes[1].set_title(\"Percentage Frequency Histogram\")\n",
    "axes[1].set_ylabel('Percentage Frequency')\n",
    "axes[1].set_xlabel('Beta')\n",
    "\n",
    "# Display the plots\n",
    "plt.tight_layout() \n",
    "plt.show()"
   ]
  },
  {
   "cell_type": "code",
   "execution_count": 50,
   "id": "d78386a4-abd3-476c-9de3-b437fb3157e8",
   "metadata": {},
   "outputs": [
    {
     "name": "stdout",
     "output_type": "stream",
     "text": [
      "\n",
      "Maximum\n",
      "                       Company  Beta\n",
      "16  JPMorgan Chase and Company  1.84\n",
      "\n",
      "Minimum\n",
      "                        Company  Beta\n",
      "26  Verizon Communications Inc.  0.04\n"
     ]
    }
   ],
   "source": [
    "max = q49[q49['Beta']==q49['Beta'].max()]\n",
    "min = q49[q49['Beta']==q49['Beta'].min()]\n",
    "print(\"\\nMaximum\")\n",
    "print(max)\n",
    "print(\"\\nMinimum\")\n",
    "print(min)"
   ]
  },
  {
   "cell_type": "code",
   "execution_count": null,
   "id": "de885f9f-be00-452c-b4ff-60010753d60c",
   "metadata": {},
   "outputs": [],
   "source": []
  },
  {
   "cell_type": "markdown",
   "id": "d732de89-1363-41a8-96f7-3e4ff863fcc2",
   "metadata": {},
   "source": [
    "# Q52"
   ]
  },
  {
   "cell_type": "code",
   "execution_count": 51,
   "id": "b08641cf-b9d5-43ab-a598-86611f6baf22",
   "metadata": {},
   "outputs": [],
   "source": [
    "q50 = pd.read_excel('FortuneBest100.xlsx')"
   ]
  },
  {
   "cell_type": "code",
   "execution_count": 52,
   "id": "213939d7-3081-4efd-8d67-675ed3630e07",
   "metadata": {},
   "outputs": [
    {
     "data": {
      "text/html": [
       "<div>\n",
       "<style scoped>\n",
       "    .dataframe tbody tr th:only-of-type {\n",
       "        vertical-align: middle;\n",
       "    }\n",
       "\n",
       "    .dataframe tbody tr th {\n",
       "        vertical-align: top;\n",
       "    }\n",
       "\n",
       "    .dataframe thead th {\n",
       "        text-align: right;\n",
       "    }\n",
       "</style>\n",
       "<table border=\"1\" class=\"dataframe\">\n",
       "  <thead>\n",
       "    <tr style=\"text-align: right;\">\n",
       "      <th></th>\n",
       "      <th>Rank</th>\n",
       "      <th>Company</th>\n",
       "      <th>Size</th>\n",
       "      <th>Job Growth (%)</th>\n",
       "    </tr>\n",
       "  </thead>\n",
       "  <tbody>\n",
       "    <tr>\n",
       "      <th>0</th>\n",
       "      <td>1</td>\n",
       "      <td>Google</td>\n",
       "      <td>Large</td>\n",
       "      <td>33.0</td>\n",
       "    </tr>\n",
       "    <tr>\n",
       "      <th>1</th>\n",
       "      <td>2</td>\n",
       "      <td>Boston Consulting Group</td>\n",
       "      <td>Small</td>\n",
       "      <td>10.0</td>\n",
       "    </tr>\n",
       "    <tr>\n",
       "      <th>2</th>\n",
       "      <td>3</td>\n",
       "      <td>SAS Institute</td>\n",
       "      <td>Midsized</td>\n",
       "      <td>8.0</td>\n",
       "    </tr>\n",
       "    <tr>\n",
       "      <th>3</th>\n",
       "      <td>4</td>\n",
       "      <td>Wegmans Food Markets</td>\n",
       "      <td>Large</td>\n",
       "      <td>5.0</td>\n",
       "    </tr>\n",
       "    <tr>\n",
       "      <th>4</th>\n",
       "      <td>5</td>\n",
       "      <td>Edward Jones</td>\n",
       "      <td>Large</td>\n",
       "      <td>1.0</td>\n",
       "    </tr>\n",
       "  </tbody>\n",
       "</table>\n",
       "</div>"
      ],
      "text/plain": [
       "   Rank                  Company      Size  Job Growth (%)\n",
       "0     1                   Google     Large            33.0\n",
       "1     2  Boston Consulting Group     Small            10.0\n",
       "2     3            SAS Institute  Midsized             8.0\n",
       "3     4     Wegmans Food Markets     Large             5.0\n",
       "4     5             Edward Jones     Large             1.0"
      ]
     },
     "execution_count": 52,
     "metadata": {},
     "output_type": "execute_result"
    }
   ],
   "source": [
    "q50.head()"
   ]
  },
  {
   "cell_type": "code",
   "execution_count": 53,
   "id": "658b0d68-da70-4326-bfa1-7eda1fb5393f",
   "metadata": {},
   "outputs": [],
   "source": [
    "q50.rename(columns={'Job Growth (%)': 'Job_growth'}, inplace=True)"
   ]
  },
  {
   "cell_type": "code",
   "execution_count": 54,
   "id": "3082c650-b8db-4253-a3fc-3f2688926699",
   "metadata": {},
   "outputs": [],
   "source": [
    "class_main = [\n",
    "    '-10,0',\n",
    "    '1,10 ',\n",
    "    '11,20',\n",
    "    '21,30',\n",
    "    '31,40',\n",
    "    '41,50',\n",
    "    '51,60',\n",
    "    '61,70'\n",
    "]\n",
    "jg = q50.Job_growth.tolist()\n",
    "c = [[] for _ in range(8)]\n",
    "def find_index(value):\n",
    "    for index, range_str in enumerate(class_main):\n",
    "        lower, upper = map(float, range_str.split(','))\n",
    "        if lower<=value<=upper:\n",
    "            return index\n",
    "    return None\n",
    "    \n",
    "for i in jg:\n",
    "    category_index = find_index(i)\n",
    "    c[category_index].append(i)"
   ]
  },
  {
   "cell_type": "code",
   "execution_count": 55,
   "id": "92c84a4f-2f18-43f9-b519-f5b6327ab4a0",
   "metadata": {},
   "outputs": [
    {
     "name": "stdout",
     "output_type": "stream",
     "text": [
      "[14, 60, 12, 8, 3, 0, 0, 1]\n"
     ]
    }
   ],
   "source": [
    "freq = [len(j) for j in c]\n",
    "print(freq)"
   ]
  },
  {
   "cell_type": "code",
   "execution_count": 56,
   "id": "a1a9a121-9b02-4e82-b1e4-06dc703c04c5",
   "metadata": {},
   "outputs": [],
   "source": [
    "size = q50.Size.tolist()"
   ]
  },
  {
   "cell_type": "code",
   "execution_count": 57,
   "id": "29621c21-0500-4aac-bb6f-31b014b194d6",
   "metadata": {},
   "outputs": [],
   "source": [
    "a = q50[q50['Size']=='Large']\n",
    "b = q50[q50['Size']=='Midsized']\n",
    "c = q50[q50['Size']=='Small']"
   ]
  },
  {
   "cell_type": "code",
   "execution_count": 58,
   "id": "05eafae1-66bc-4041-b75e-8f6ef9d46b30",
   "metadata": {},
   "outputs": [],
   "source": [
    "jg1 = a['Job_growth'].tolist()\n",
    "jg2 = b['Job_growth'].tolist()\n",
    "jg3 = c['Job_growth'].tolist()"
   ]
  },
  {
   "cell_type": "code",
   "execution_count": 59,
   "id": "f5d4f53f-7144-497e-bf02-147e1a9012d2",
   "metadata": {},
   "outputs": [],
   "source": [
    "large = [[] for _ in range(8)]\n",
    "for i in jg1:\n",
    "    category_index = find_index(i)\n",
    "    large[category_index].append(i)\n",
    "\n",
    "small = [[] for _ in range(8)]\n",
    "for i in jg3:\n",
    "    category_index = find_index(i)\n",
    "    small[category_index].append(i)\n",
    "\n",
    "mid = [[] for _ in range(8)]\n",
    "for i in jg2:\n",
    "    category_index = find_index(i)\n",
    "    mid[category_index].append(i)"
   ]
  },
  {
   "cell_type": "code",
   "execution_count": 60,
   "id": "f664fc78-788f-4050-9378-8734b7853b2e",
   "metadata": {},
   "outputs": [
    {
     "name": "stdout",
     "output_type": "stream",
     "text": [
      "-------------------Cross Tabulation-------------------\n",
      "\n",
      "Class\tLarge\tMidsized\tSmall\t|Frequency\n",
      "-10,0 :\t 2 \t 7 \t\t 5 \t| 14\n",
      "1,10  :\t 30 \t 12 \t\t 18 \t| 60\n",
      "11,20 :\t 3 \t 3 \t\t 6 \t| 12\n",
      "21,30 :\t 2 \t 3 \t\t 3 \t| 8\n",
      "31,40 :\t 1 \t 2 \t\t 0 \t| 3\n",
      "41,50 :\t 0 \t 0 \t\t 0 \t| 0\n",
      "51,60 :\t 0 \t 0 \t\t 0 \t| 0\n",
      "61,70 :\t 0 \t 1 \t\t 0 \t| 1\n",
      "-----------------------------------------------------\n",
      "\t 38 \t 28 \t\t 32 \t| 98\n"
     ]
    }
   ],
   "source": [
    "print(\"-------------------Cross Tabulation-------------------\\n\")\n",
    "print(\"Class\\tLarge\\tMidsized\\tSmall\\t|Frequency\")\n",
    "for i,j,k,l,m in zip(class_main,large, mid, small, freq):\n",
    "    print(i,\":\\t\",len(j),\"\\t\",len(k), \"\\t\\t\",len(l) ,\"\\t|\", m)\n",
    "\n",
    "print(\"-----------------------------------------------------\")\n",
    "large_sum=0\n",
    "mid_sum=0\n",
    "small_sum=0\n",
    "for i,j,k in zip(large,mid,small):\n",
    "    large_sum=large_sum+len(i)\n",
    "    mid_sum = mid_sum+len(j)\n",
    "    small_sum = small_sum+len(k)\n",
    "print(\"\\t\",large_sum,\"\\t\",mid_sum, \"\\t\\t\",small_sum, \"\\t|\",sum(freq))"
   ]
  },
  {
   "cell_type": "code",
   "execution_count": 61,
   "id": "a6f365cb-8782-4ffb-bf3c-be9da99ced5f",
   "metadata": {},
   "outputs": [
    {
     "name": "stdout",
     "output_type": "stream",
     "text": [
      "----------------Col% Cross Tabulation-------------------\n",
      "\n",
      "Class\tLarge\t  Midsized\tSmall\t\t|Frequency\n",
      "-10,0 :\t 5.3 %\t    25.0 %\t 15.6 %\t\t| 14\n",
      "1,10  :\t 78.9 %\t    42.9 %\t 56.2 %\t\t| 60\n",
      "11,20 :\t 7.9 %\t    10.7 %\t 18.8 %\t\t| 12\n",
      "21,30 :\t 5.3 %\t    10.7 %\t 9.4 %\t\t| 8\n",
      "31,40 :\t 2.6 %\t    7.1 %\t 0.0 %\t\t| 3\n",
      "41,50 :\t 0.0 %\t    0.0 %\t 0.0 %\t\t| 0\n",
      "51,60 :\t 0.0 %\t    0.0 %\t 0.0 %\t\t| 0\n",
      "61,70 :\t 0.0 %\t    3.6 %\t 0.0 %\t\t| 1\n",
      "-----------------------------------------------------\n",
      "\t 100.0 %   100.0 %\t 100.0 %\t| 98\n"
     ]
    }
   ],
   "source": [
    "print(\"----------------Col% Cross Tabulation-------------------\\n\")\n",
    "print(\"Class\\tLarge\\t  Midsized\\tSmall\\t\\t|Frequency\")\n",
    "for i,j,k,l,m in zip(class_main,large, mid, small, freq):\n",
    "    print(i,\":\\t\",round(len(j)*100/large_sum,1),\"%\\t   \",round(len(k)*100/mid_sum,1), \"%\\t\",round(len(l)*100/small_sum,1) ,\"%\\t\\t|\", m)\n",
    "\n",
    "print(\"-----------------------------------------------------\")\n",
    "p_large_sum=0\n",
    "p_mid_sum=0\n",
    "p_small_sum=0\n",
    "for i,j,k in zip(large,mid,small):\n",
    "    p_large_sum=p_large_sum+round(len(i)*100/large_sum,1)\n",
    "    p_mid_sum = p_mid_sum+round(len(j)*100/mid_sum,1)\n",
    "    p_small_sum = p_small_sum+round(len(k)*100/small_sum,1)\n",
    "print(\"\\t\",p_large_sum,\"%  \",p_mid_sum, \"%\\t\",p_small_sum, \"%\\t|\",sum(freq))"
   ]
  },
  {
   "cell_type": "code",
   "execution_count": 62,
   "id": "8662a1ab-4655-4de4-aab1-47697bdee794",
   "metadata": {},
   "outputs": [
    {
     "name": "stdout",
     "output_type": "stream",
     "text": [
      "-------------------Row % Cross Tabulation--------------------\n",
      "\n",
      "Class\tLarge\t   Midsized\tSmall\t\t|Frequency\n",
      "-10,0 :\t 14.3 %\t   50.0 %\t 35.7 %\t\t| 100.0 %\n",
      "1,10  :\t 50.0 %\t   20.0 %\t 30.0 %\t\t| 100.0 %\n",
      "11,20 :\t 25.0 %\t   25.0 %\t 50.0 %\t\t| 100.0 %\n",
      "21,30 :\t 25.0 %\t   37.5 %\t 37.5 %\t\t| 100.0 %\n",
      "31,40 :\t 33.3 %\t   66.7 %\t 0.0 %\t\t| 100.0 %\n",
      "61,70 :\t 0.0 %\t   100.0 %\t 0.0 %\t\t| 100.0 %\n",
      "-------------------------------------------------------------\n",
      "\t 38 \t     28 \t 32 \t\t| 98\n"
     ]
    }
   ],
   "source": [
    "print(\"-------------------Row % Cross Tabulation--------------------\\n\")\n",
    "print(\"Class\\tLarge\\t   Midsized\\tSmall\\t\\t|Frequency\")\n",
    "for i,j,k,l,m in zip(class_main,large, mid, small, freq):\n",
    "    if m==0:\n",
    "        continue\n",
    "    print(i,\":\\t\",round(len(j)*100/m,1),\"%\\t  \",round(len(k)*100/m,1), \"%\\t\",round(len(l)/m*100,1) ,\"%\\t\\t|\", round(len(j)*100/m,1)+round(len(k)*100/m,1)+round(len(l)/m*100,1),\"%\")\n",
    "\n",
    "print(\"-------------------------------------------------------------\")\n",
    "print(\"\\t\",large_sum,\"\\t    \",mid_sum, \"\\t\",small_sum, \"\\t\\t|\",sum(freq))"
   ]
  },
  {
   "cell_type": "code",
   "execution_count": null,
   "id": "d0cc9ef2-4876-421b-abd1-1cd85bbca538",
   "metadata": {},
   "outputs": [],
   "source": []
  },
  {
   "cell_type": "markdown",
   "id": "709ef385-c8aa-4c05-a168-aa563917418a",
   "metadata": {},
   "source": [
    "# Q53"
   ]
  },
  {
   "cell_type": "code",
   "execution_count": 63,
   "id": "0a2abecc-f6b7-4e23-8392-da6809f52df2",
   "metadata": {},
   "outputs": [],
   "source": [
    "q53 = pd.read_excel('Colleges.xlsx')"
   ]
  },
  {
   "cell_type": "code",
   "execution_count": 64,
   "id": "7efc7028-7eb8-4cd7-96cf-524dc5ef86f5",
   "metadata": {},
   "outputs": [
    {
     "data": {
      "text/html": [
       "<div>\n",
       "<style scoped>\n",
       "    .dataframe tbody tr th:only-of-type {\n",
       "        vertical-align: middle;\n",
       "    }\n",
       "\n",
       "    .dataframe tbody tr th {\n",
       "        vertical-align: top;\n",
       "    }\n",
       "\n",
       "    .dataframe thead th {\n",
       "        text-align: right;\n",
       "    }\n",
       "</style>\n",
       "<table border=\"1\" class=\"dataframe\">\n",
       "  <thead>\n",
       "    <tr style=\"text-align: right;\">\n",
       "      <th></th>\n",
       "      <th>School</th>\n",
       "      <th>Year Founded</th>\n",
       "      <th>Tuition &amp; Fees</th>\n",
       "      <th>% Graduate</th>\n",
       "    </tr>\n",
       "  </thead>\n",
       "  <tbody>\n",
       "    <tr>\n",
       "      <th>0</th>\n",
       "      <td>American University</td>\n",
       "      <td>1893</td>\n",
       "      <td>36697</td>\n",
       "      <td>79.0</td>\n",
       "    </tr>\n",
       "    <tr>\n",
       "      <th>1</th>\n",
       "      <td>Baylor University</td>\n",
       "      <td>1845</td>\n",
       "      <td>29754</td>\n",
       "      <td>70.0</td>\n",
       "    </tr>\n",
       "    <tr>\n",
       "      <th>2</th>\n",
       "      <td>Belmont University</td>\n",
       "      <td>1951</td>\n",
       "      <td>23680</td>\n",
       "      <td>68.0</td>\n",
       "    </tr>\n",
       "    <tr>\n",
       "      <th>3</th>\n",
       "      <td>Bethune-Cookman University</td>\n",
       "      <td>1904</td>\n",
       "      <td>13572</td>\n",
       "      <td>37.0</td>\n",
       "    </tr>\n",
       "    <tr>\n",
       "      <th>4</th>\n",
       "      <td>Boston College</td>\n",
       "      <td>1863</td>\n",
       "      <td>40542</td>\n",
       "      <td>91.0</td>\n",
       "    </tr>\n",
       "  </tbody>\n",
       "</table>\n",
       "</div>"
      ],
      "text/plain": [
       "                       School  Year Founded  Tuition & Fees  % Graduate\n",
       "0         American University          1893           36697        79.0\n",
       "1           Baylor University          1845           29754        70.0\n",
       "2          Belmont University          1951           23680        68.0\n",
       "3  Bethune-Cookman University          1904           13572        37.0\n",
       "4              Boston College          1863           40542        91.0"
      ]
     },
     "execution_count": 64,
     "metadata": {},
     "output_type": "execute_result"
    }
   ],
   "source": [
    "q53.head()"
   ]
  },
  {
   "cell_type": "code",
   "execution_count": 65,
   "id": "6ac0b178-5d12-45f2-bde7-9fa896227a33",
   "metadata": {},
   "outputs": [
    {
     "data": {
      "text/plain": [
       "Index(['School', 'Year Founded', 'Tuition & Fees', '% Graduate'], dtype='object')"
      ]
     },
     "execution_count": 65,
     "metadata": {},
     "output_type": "execute_result"
    }
   ],
   "source": [
    "q53.columns"
   ]
  },
  {
   "cell_type": "code",
   "execution_count": 66,
   "id": "a00dc93f-865c-481f-bcb7-37b98b6e2e74",
   "metadata": {},
   "outputs": [],
   "source": [
    "q53.rename(columns={'Year Founded': 'Year', 'Tuition & Fees': 'Fees'},inplace=True)"
   ]
  },
  {
   "cell_type": "code",
   "execution_count": 67,
   "id": "d0459d42-4eb3-4cc6-be4a-00391d9afb14",
   "metadata": {},
   "outputs": [
    {
     "data": {
      "text/plain": [
       "(103, 4)"
      ]
     },
     "execution_count": 67,
     "metadata": {},
     "output_type": "execute_result"
    }
   ],
   "source": [
    "q53.shape"
   ]
  },
  {
   "cell_type": "code",
   "execution_count": 68,
   "id": "c6249c36-ee16-4df4-94cf-e9fff7e8b827",
   "metadata": {},
   "outputs": [],
   "source": [
    "class_year=[\n",
    "    '1600-1650',\n",
    "    '1651-1700',\n",
    "    '1701-1750',\n",
    "    '1751-1800',\n",
    "    '1801-1850',\n",
    "    '1851-1900',\n",
    "    '1901-1950',\n",
    "    '1951-2000'\n",
    "]\n",
    "class_fees=[\n",
    "    '1-5000     ',\n",
    "    '5001-10000 ',\n",
    "    '10001-15000',\n",
    "    '15001-20000',\n",
    "    '20001-25000',\n",
    "    '25001-30000',\n",
    "    '30001-35000',\n",
    "    '35001-40000',\n",
    "    '40001-45000'\n",
    "]"
   ]
  },
  {
   "cell_type": "code",
   "execution_count": 69,
   "id": "c9317eb9-50dc-4ae2-9354-f21ee9252d4a",
   "metadata": {},
   "outputs": [],
   "source": [
    "year= q53['Year']\n",
    "fees = q53['Fees']\n",
    "y = [[] for _ in range(8)]\n",
    "f = [[] for _ in range(9)]"
   ]
  },
  {
   "cell_type": "code",
   "execution_count": 70,
   "id": "ed903545-0fe7-4b91-bcce-8fe3ef7ed7f7",
   "metadata": {},
   "outputs": [],
   "source": [
    "def find_index_class(value):\n",
    "    for index,range_str in enumerate(class_year):\n",
    "        lower, upper = map(float, range_str.split('-'))\n",
    "        if lower<=value<=upper:\n",
    "            return index\n",
    "    return None\n",
    "\n",
    "def find_index_fees(value):\n",
    "    for index, range_str in enumerate(class_fees):\n",
    "        lower, upper = map(float, range_str.split('-'))\n",
    "        if lower<=value<=upper:\n",
    "            return index\n",
    "    return None\n",
    "\n",
    "for i in year:\n",
    "    category_index = find_index_class(i)\n",
    "    y[category_index].append(i)\n",
    "\n",
    "for j in fees:\n",
    "    category_index = find_index_fees(j)\n",
    "    f[category_index].append(j)"
   ]
  },
  {
   "cell_type": "code",
   "execution_count": 71,
   "id": "627dee04-9df1-4199-99a3-3406c735e69d",
   "metadata": {},
   "outputs": [],
   "source": [
    "freq_year = [len(i) for i in y]\n",
    "freq_fees = [len(i) for i in f]"
   ]
  },
  {
   "cell_type": "code",
   "execution_count": 72,
   "id": "184bd26a-026d-4a38-b15a-146807ce0ca1",
   "metadata": {},
   "outputs": [],
   "source": [
    "c1 = q53[(q53['Year']>=1600) & (q53['Year']<=1650)]\n",
    "c2 = q53[(q53['Year']>=1651) & (q53['Year']<=1700)]\n",
    "c3 = q53[(q53['Year']>=1701) & (q53['Year']<=1750)]\n",
    "c4 = q53[(q53['Year']>=1751) & (q53['Year']<=1800)]\n",
    "c5 = q53[(q53['Year']>=1801) & (q53['Year']<=1850)]\n",
    "c6 = q53[(q53['Year']>=1851) & (q53['Year']<=1900)]\n",
    "c7 = q53[(q53['Year']>=1900) & (q53['Year']<=1950)]\n",
    "c8 = q53[(q53['Year']>=1951) & (q53['Year']<=2000)]"
   ]
  },
  {
   "cell_type": "code",
   "execution_count": 73,
   "id": "901f1342-9d7b-4e9b-b3df-00032553be73",
   "metadata": {},
   "outputs": [],
   "source": [
    "c1_f = c1['Fees'].tolist()\n",
    "c2_f = c2['Fees'].tolist()\n",
    "c3_f = c3['Fees'].tolist()\n",
    "c4_f = c4['Fees'].tolist()\n",
    "c5_f = c5['Fees'].tolist()\n",
    "c6_f = c6['Fees'].tolist()\n",
    "c7_f = c7['Fees'].tolist()\n",
    "c8_f = c8['Fees'].tolist()"
   ]
  },
  {
   "cell_type": "code",
   "execution_count": 74,
   "id": "f53ffe8d-50bf-4230-8b6f-3a7345bc2f3d",
   "metadata": {},
   "outputs": [],
   "source": [
    "class_1=[[] for _ in range(9)]\n",
    "class_2=[[] for _ in range(9)]\n",
    "class_3=[[] for _ in range(9)]\n",
    "class_4=[[] for _ in range(9)]\n",
    "class_5=[[] for _ in range(9)]\n",
    "class_6=[[] for _ in range(9)]\n",
    "class_7=[[] for _ in range(9)]\n",
    "class_8=[[] for _ in range(9)]\n",
    "for i in c1_f:\n",
    "    category_index = find_index_fees(i)\n",
    "    class_1[category_index].append(i)\n",
    "for i in c2_f:\n",
    "    category_index = find_index_fees(i)\n",
    "    class_2[category_index].append(i)\n",
    "for i in c3_f:\n",
    "    category_index = find_index_fees(i)\n",
    "    class_3[category_index].append(i)\n",
    "for i in c4_f:\n",
    "    category_index = find_index_fees(i)\n",
    "    class_4[category_index].append(i)\n",
    "for i in c5_f:\n",
    "    category_index = find_index_fees(i)\n",
    "    class_5[category_index].append(i)\n",
    "for i in c6_f:\n",
    "    category_index = find_index_fees(i)\n",
    "    class_6[category_index].append(i)\n",
    "for i in c7_f:\n",
    "    category_index = find_index_fees(i)\n",
    "    class_7[category_index].append(i)\n",
    "for i in c8_f:\n",
    "    category_index = find_index_fees(i)\n",
    "    class_8[category_index].append(i)"
   ]
  },
  {
   "cell_type": "code",
   "execution_count": 75,
   "id": "934df2a1-a76f-485c-b260-28b774379e1f",
   "metadata": {},
   "outputs": [
    {
     "name": "stdout",
     "output_type": "stream",
     "text": [
      "   Year\t    1600-1650 |1651-1700 |1701-1750 |1751-1800 |1801-1850 |1851-1900 |1901-1950 |1951-2000 |\n",
      "   Fees\t\t      |\t\t |\n",
      "1-5000      \t 0    |\t    0    |     0    |\t   0   |     0    |    1          0 \t    0      | 1\n",
      "5001-10000  \t 0    |\t    0    |     0    |\t   0   |     0    |    0          0 \t    0      | 0\n",
      "10001-15000 \t 0    |\t    0    |     0    |\t   0   |     0    |    0          1 \t    0      | 1\n",
      "15001-20000 \t 0    |\t    0    |     0    |\t   0   |     0    |    2          0 \t    2      | 4\n",
      "20001-25000 \t 0    |\t    0    |     0    |\t   0   |     1    |    2          2 \t    4      | 9\n",
      "25001-30000 \t 0    |\t    0    |     0    |\t   0   |     4    |    12          3 \t    0      | 19\n",
      "30001-35000 \t 0    |\t    0    |     0    |\t   0   |     3    |    14          4 \t    1      | 22\n",
      "35001-40000 \t 1    |\t    0    |     2    |\t   0   |     6    |    13          8 \t    0      | 30\n",
      "40001-45000 \t 0    |\t    0    |     1    |\t   4   |     8    |    4          0 \t    0      | 17\n",
      "-----------------------------------------------------------------------------------------------------------\n",
      "   Total: \t 1    |     0    |     3    |     4    |     22    |     48    |     18    |     7    |     ( 103 , 103 )\n"
     ]
    }
   ],
   "source": [
    "print(\"   Year\",end=\"\\t    \")\n",
    "for i in range(len(class_year)):\n",
    "    print(class_year[i],end=\" |\")\n",
    "\n",
    "print(\"\\n   Fees\\t\\t      |\\t\\t |\")\n",
    "for i,j,k,l,m,n,q,w,e,z in zip(class_fees,class_1,class_2,class_3,class_4,class_5,class_6,class_7,class_8,freq_fees):\n",
    "    print(i,\"\\t\",len(j),\"   |\\t   \",len(k),\"   |    \",len(l),\"   |\\t  \",len(m),\"  |    \",len(n), \"   |   \",len(q),\"        \",len(w),\"\\t   \",len(e),\"     |\",z)\n",
    "print(\"-----------------------------------------------------------------------------------------------------------\")\n",
    "print(\"   Total: \",end=\"\\t \")\n",
    "for i in freq_year:\n",
    "    print(i, end=\"    |     \")\n",
    "print(\"(\",sum(freq_year),\",\",sum(freq_fees),\")\")"
   ]
  },
  {
   "cell_type": "code",
   "execution_count": 76,
   "id": "5ef2713b-a925-4fcd-9be8-97b9104a5a06",
   "metadata": {},
   "outputs": [],
   "source": [
    "class_grad=[\n",
    "    '30-40',\n",
    "    '41-50',\n",
    "    '51-60',\n",
    "    '61-70',\n",
    "    '71-80',\n",
    "    '81-90',\n",
    "    '91-100'\n",
    "]\n",
    "graduate_list = q53['% Graduate'].tolist()\n",
    "def find_index_grad(value):\n",
    "    for index, range_str in enumerate(class_grad):\n",
    "        lower,upper = map(float, range_str.split('-'))\n",
    "        if lower<=value<=upper:\n",
    "            return index\n",
    "    return None\n",
    "grad = [[] for _ in range(7)]\n",
    "for i in graduate_list:\n",
    "    index_grad = find_index_grad(i)\n",
    "    grad[index_grad].append(i)"
   ]
  },
  {
   "cell_type": "code",
   "execution_count": 77,
   "id": "3965fc62-6f04-4f87-a5e8-c8e89ef63ed0",
   "metadata": {},
   "outputs": [],
   "source": [
    "freq_grad = [len(i) for i in grad]"
   ]
  },
  {
   "cell_type": "code",
   "execution_count": 78,
   "id": "664ba951-7d78-4d38-ba98-1cd8d4ccceef",
   "metadata": {},
   "outputs": [],
   "source": [
    "p1 = q53[(q53['% Graduate']>=35) & (q53['% Graduate']<=40)]\n",
    "p2 = q53[(q53['% Graduate']>=41) & (q53['% Graduate']<=50)]\n",
    "p3 = q53[(q53['% Graduate']>=51) & (q53['% Graduate']<=60)]\n",
    "p4 = q53[(q53['% Graduate']>=61) & (q53['% Graduate']<=70)]\n",
    "p5 = q53[(q53['% Graduate']>=71) & (q53['% Graduate']<=80)]\n",
    "p6 = q53[(q53['% Graduate']>=81) & (q53['% Graduate']<=90)]\n",
    "p7 = q53[(q53['% Graduate']>=91) & (q53['% Graduate']<=100)]"
   ]
  },
  {
   "cell_type": "code",
   "execution_count": 79,
   "id": "33330b28-d527-4247-a527-723f8089cdf1",
   "metadata": {},
   "outputs": [],
   "source": [
    "p1_y = p1['Year'].tolist()\n",
    "p2_y = p2['Year'].tolist()\n",
    "p3_y = p3['Year'].tolist()\n",
    "p4_y = p4['Year'].tolist()\n",
    "p5_y = p5['Year'].tolist()\n",
    "p6_y = p6['Year'].tolist()\n",
    "p7_y = p7['Year'].tolist()\n",
    "per_1 = [[] for _ in range(8)]\n",
    "per_2 = [[] for _ in range(8)]\n",
    "per_3 = [[] for _ in range(8)]\n",
    "per_4 = [[] for _ in range(8)]\n",
    "per_5 = [[] for _ in range(8)]\n",
    "per_6 = [[] for _ in range(8)]\n",
    "per_7 = [[] for _ in range(8)]\n",
    "for i in p1_y:\n",
    "    index_year = find_index_class(i)\n",
    "    per_1[index_year].append(i)\n",
    "for i in p2_y:\n",
    "    index_year = find_index_class(i)\n",
    "    per_2[index_year].append(i)\n",
    "for i in p3_y:\n",
    "    index_year = find_index_class(i)\n",
    "    per_3[index_year].append(i)\n",
    "for i in p4_y:\n",
    "    index_year = find_index_class(i)\n",
    "    per_4[index_year].append(i)\n",
    "for i in p5_y:\n",
    "    index_year = find_index_class(i)\n",
    "    per_5[index_year].append(i)\n",
    "for i in p6_y:\n",
    "    index_year = find_index_class(i)\n",
    "    per_6[index_year].append(i)\n",
    "for i in p7_y:\n",
    "    index_year = find_index_class(i)\n",
    "    per_7[index_year].append(i)"
   ]
  },
  {
   "cell_type": "code",
   "execution_count": 80,
   "id": "95a650da-5da1-483d-b6bc-0b9f15f3171f",
   "metadata": {},
   "outputs": [
    {
     "name": "stdout",
     "output_type": "stream",
     "text": [
      "Percentage of graduate:  30-40 |   41-50 |   51-60 |   61-70 |   71-80 |   81-90 |   91-100 |   \n",
      "   Year\n",
      "1600-1650 \t\t   0 \t      0        0 \t 0 \t   0 \t     0 \t       1 \t| 1\n",
      "1651-1700 \t\t   0 \t      0        0 \t 0 \t   0 \t     0 \t       0 \t| 0\n",
      "1701-1750 \t\t   0 \t      0        0 \t 0 \t   0 \t     0 \t       3 \t| 3\n",
      "1751-1800 \t\t   0 \t      0        0 \t 0 \t   0 \t     0 \t       4 \t| 4\n",
      "1801-1850 \t\t   0 \t      0        0 \t 5 \t   5 \t     8 \t       4 \t| 22\n",
      "1851-1900 \t\t   0 \t      1        6 \t 16 \t   11 \t     9 \t       5 \t| 48\n",
      "1901-1950 \t\t   1 \t      2        2 \t 2 \t   8 \t     2 \t       1 \t| 18\n",
      "1951-2000 \t\t   1 \t      1        3 \t 2 \t   0 \t     0 \t       0 \t| 7\n",
      "-----------------------------------------------------------------------------------------------------------\n",
      "   Total: \t           2 \t       4       11 \t 25 \t   24 \t     19        18 \t ( 103 , 103 )\n"
     ]
    }
   ],
   "source": [
    "print(\"Percentage of graduate: \",end= \" \")\n",
    "for i in class_grad:\n",
    "    print(i, end=\" |   \")\n",
    "print(\"\\n   Year\")\n",
    "for i,j,k,l,m,n,o,q,w in zip(class_year,per_1,per_2,per_3,per_4,per_5,per_6,per_7,freq_year):\n",
    "    print(i,\"\\t\\t  \",len(j),\"\\t     \",len(k),\"      \",len(l),\"\\t\",len(m),\"\\t  \",len(n), \"\\t    \",len(o),\"\\t      \", len(q), \"\\t|\", w)\n",
    "print(\"-----------------------------------------------------------------------------------------------------------\")\n",
    "print(\"   Total: \",end=\"\\t           \")\n",
    "print(freq_grad[0],\"\\t      \",freq_grad[1],\"     \",freq_grad[2],\"\\t\", freq_grad[3],\"\\t  \",freq_grad[4], \"\\t    \", freq_grad[5], \"      \",freq_grad[6], \"\\t\",\"(\",sum(freq_grad),\",\",sum(freq_year),\")\")"
   ]
  },
  {
   "cell_type": "code",
   "execution_count": 81,
   "id": "8de288ce-8262-4f98-a826-e30c3d71222d",
   "metadata": {},
   "outputs": [
    {
     "data": {
      "text/plain": [
       "<matplotlib.collections.PathCollection at 0x16a004d10>"
      ]
     },
     "execution_count": 81,
     "metadata": {},
     "output_type": "execute_result"
    },
    {
     "data": {
      "image/png": "[encoded data removed]",
      "text/plain": [
       "<Figure size 640x480 with 1 Axes>"
      ]
     },
     "metadata": {},
     "output_type": "display_data"
    }
   ],
   "source": [
    "plt.scatter(q53['Year'], q53['Fees'])"
   ]
  },
  {
   "cell_type": "code",
   "execution_count": 82,
   "id": "01619ec2-837b-45d7-bd18-bba7ef010c18",
   "metadata": {},
   "outputs": [
    {
     "data": {
      "text/plain": [
       "<matplotlib.collections.PathCollection at 0x169dc9670>"
      ]
     },
     "execution_count": 82,
     "metadata": {},
     "output_type": "execute_result"
    },
    {
     "data": {
      "image/png": "[encoded data removed]",
      "text/plain": [
       "<Figure size 640x480 with 1 Axes>"
      ]
     },
     "metadata": {},
     "output_type": "display_data"
    }
   ],
   "source": [
    "plt.scatter(q53['Year'],q53['% Graduate'])"
   ]
  },
  {
   "cell_type": "code",
   "execution_count": 83,
   "id": "0aa9888a-ab82-4ac9-95d3-0a3eaf51cdaa",
   "metadata": {},
   "outputs": [],
   "source": [
    "total = sum(freq_year)\n",
    "rel_freq_year = [round(i/total,2) for i in freq_year]\n",
    "per_freq_year = [round(i*100,2) for i in rel_freq_year]"
   ]
  },
  {
   "cell_type": "code",
   "execution_count": 84,
   "id": "9cd5a546-db01-4218-a7c0-9f4ffd69dc3b",
   "metadata": {},
   "outputs": [
    {
     "name": "stdout",
     "output_type": "stream",
     "text": [
      "[1, 1, 4, 8, 30, 78, 96, 103]\n"
     ]
    }
   ],
   "source": [
    "cum = []\n",
    "a=0\n",
    "for i in freq_year:\n",
    "    a = a+i\n",
    "    cum.append(a)\n",
    "print(cum)"
   ]
  },
  {
   "cell_type": "code",
   "execution_count": 85,
   "id": "2eaafbf3-5a07-420a-a8de-7ee6a85c7ba9",
   "metadata": {},
   "outputs": [
    {
     "name": "stdout",
     "output_type": "stream",
     "text": [
      "1600-1650 \t 1 \t 0.01 \t 1.0 \t 1\n",
      "1651-1700 \t 0 \t 0.0 \t 0.0 \t 1\n",
      "1701-1750 \t 3 \t 0.03 \t 3.0 \t 4\n",
      "1751-1800 \t 4 \t 0.04 \t 4.0 \t 8\n",
      "1801-1850 \t 22 \t 0.21 \t 21.0 \t 30\n",
      "1851-1900 \t 48 \t 0.47 \t 47.0 \t 78\n",
      "1901-1950 \t 18 \t 0.17 \t 17.0 \t 96\n",
      "1951-2000 \t 7 \t 0.07 \t 7.0 \t 103\n",
      "Total:  \t 103 \t 1.0 \t 100.0 \t\n"
     ]
    }
   ],
   "source": [
    "for i,j,k,l,o in zip(class_year,freq_year,rel_freq_year, per_freq_year,cum):\n",
    "    print(i,\"\\t\",j,\"\\t\",k,\"\\t\",l,\"\\t\",o)\n",
    "print(\"Total: \",\"\\t\",sum(freq_year),\"\\t\",sum(rel_freq_year),\"\\t\",sum(per_freq_year),\"\\t\")"
   ]
  },
  {
   "cell_type": "code",
   "execution_count": null,
   "id": "e0f9e215-6f09-4aa0-9d8c-068a5fe966ed",
   "metadata": {},
   "outputs": [],
   "source": []
  },
  {
   "cell_type": "markdown",
   "id": "3578033c-7333-4c2f-9a65-3dfd206730d7",
   "metadata": {},
   "source": [
    "# Case Studies"
   ]
  },
  {
   "cell_type": "markdown",
   "id": "286a7603-d82e-48b9-aca9-302d19260c71",
   "metadata": {},
   "source": [
    "# Case Problem 1:PELICAN STORES"
   ]
  },
  {
   "cell_type": "code",
   "execution_count": 86,
   "id": "c4c3f6cd-f605-4211-a2c0-97201863f3b6",
   "metadata": {},
   "outputs": [],
   "source": [
    "cp1 = pd.read_csv('PelicanStores.csv')"
   ]
  },
  {
   "cell_type": "code",
   "execution_count": 87,
   "id": "a46c56a5-5da4-4fba-a67c-c9eb3fb6cf41",
   "metadata": {},
   "outputs": [
    {
     "data": {
      "text/html": [
       "<div>\n",
       "<style scoped>\n",
       "    .dataframe tbody tr th:only-of-type {\n",
       "        vertical-align: middle;\n",
       "    }\n",
       "\n",
       "    .dataframe tbody tr th {\n",
       "        vertical-align: top;\n",
       "    }\n",
       "\n",
       "    .dataframe thead th {\n",
       "        text-align: right;\n",
       "    }\n",
       "</style>\n",
       "<table border=\"1\" class=\"dataframe\">\n",
       "  <thead>\n",
       "    <tr style=\"text-align: right;\">\n",
       "      <th></th>\n",
       "      <th>Customer</th>\n",
       "      <th>Type of Customer</th>\n",
       "      <th>Items</th>\n",
       "      <th>Net Sales</th>\n",
       "      <th>Method of Payment</th>\n",
       "      <th>Gender</th>\n",
       "      <th>Marital Status</th>\n",
       "      <th>Age</th>\n",
       "      <th>Unnamed: 8</th>\n",
       "      <th>Unnamed: 9</th>\n",
       "      <th>Unnamed: 10</th>\n",
       "      <th>Unnamed: 11</th>\n",
       "      <th>Unnamed: 12</th>\n",
       "    </tr>\n",
       "  </thead>\n",
       "  <tbody>\n",
       "    <tr>\n",
       "      <th>0</th>\n",
       "      <td>1</td>\n",
       "      <td>Regular</td>\n",
       "      <td>1</td>\n",
       "      <td>39.50</td>\n",
       "      <td>Discover</td>\n",
       "      <td>Male</td>\n",
       "      <td>Married</td>\n",
       "      <td>32</td>\n",
       "      <td>NaN</td>\n",
       "      <td>NaN</td>\n",
       "      <td>NaN</td>\n",
       "      <td>NaN</td>\n",
       "      <td>NaN</td>\n",
       "    </tr>\n",
       "    <tr>\n",
       "      <th>1</th>\n",
       "      <td>2</td>\n",
       "      <td>Promotional</td>\n",
       "      <td>1</td>\n",
       "      <td>102.40</td>\n",
       "      <td>Proprietary Card</td>\n",
       "      <td>Female</td>\n",
       "      <td>Married</td>\n",
       "      <td>36</td>\n",
       "      <td>NaN</td>\n",
       "      <td>NaN</td>\n",
       "      <td>NaN</td>\n",
       "      <td>NaN</td>\n",
       "      <td>NaN</td>\n",
       "    </tr>\n",
       "    <tr>\n",
       "      <th>2</th>\n",
       "      <td>3</td>\n",
       "      <td>Regular</td>\n",
       "      <td>1</td>\n",
       "      <td>22.50</td>\n",
       "      <td>Proprietary Card</td>\n",
       "      <td>Female</td>\n",
       "      <td>Married</td>\n",
       "      <td>32</td>\n",
       "      <td>NaN</td>\n",
       "      <td>NaN</td>\n",
       "      <td>NaN</td>\n",
       "      <td>NaN</td>\n",
       "      <td>NaN</td>\n",
       "    </tr>\n",
       "    <tr>\n",
       "      <th>3</th>\n",
       "      <td>4</td>\n",
       "      <td>Promotional</td>\n",
       "      <td>5</td>\n",
       "      <td>100.40</td>\n",
       "      <td>Proprietary Card</td>\n",
       "      <td>Female</td>\n",
       "      <td>Married</td>\n",
       "      <td>28</td>\n",
       "      <td>NaN</td>\n",
       "      <td>NaN</td>\n",
       "      <td>NaN</td>\n",
       "      <td>NaN</td>\n",
       "      <td>NaN</td>\n",
       "    </tr>\n",
       "    <tr>\n",
       "      <th>4</th>\n",
       "      <td>5</td>\n",
       "      <td>Regular</td>\n",
       "      <td>2</td>\n",
       "      <td>54.00</td>\n",
       "      <td>MasterCard</td>\n",
       "      <td>Female</td>\n",
       "      <td>Married</td>\n",
       "      <td>34</td>\n",
       "      <td>NaN</td>\n",
       "      <td>NaN</td>\n",
       "      <td>NaN</td>\n",
       "      <td>NaN</td>\n",
       "      <td>NaN</td>\n",
       "    </tr>\n",
       "    <tr>\n",
       "      <th>...</th>\n",
       "      <td>...</td>\n",
       "      <td>...</td>\n",
       "      <td>...</td>\n",
       "      <td>...</td>\n",
       "      <td>...</td>\n",
       "      <td>...</td>\n",
       "      <td>...</td>\n",
       "      <td>...</td>\n",
       "      <td>...</td>\n",
       "      <td>...</td>\n",
       "      <td>...</td>\n",
       "      <td>...</td>\n",
       "      <td>...</td>\n",
       "    </tr>\n",
       "    <tr>\n",
       "      <th>95</th>\n",
       "      <td>96</td>\n",
       "      <td>Regular</td>\n",
       "      <td>1</td>\n",
       "      <td>39.50</td>\n",
       "      <td>MasterCard</td>\n",
       "      <td>Female</td>\n",
       "      <td>Married</td>\n",
       "      <td>44</td>\n",
       "      <td>NaN</td>\n",
       "      <td>NaN</td>\n",
       "      <td>NaN</td>\n",
       "      <td>NaN</td>\n",
       "      <td>NaN</td>\n",
       "    </tr>\n",
       "    <tr>\n",
       "      <th>96</th>\n",
       "      <td>97</td>\n",
       "      <td>Promotional</td>\n",
       "      <td>9</td>\n",
       "      <td>253.00</td>\n",
       "      <td>Proprietary Card</td>\n",
       "      <td>Female</td>\n",
       "      <td>Married</td>\n",
       "      <td>30</td>\n",
       "      <td>NaN</td>\n",
       "      <td>NaN</td>\n",
       "      <td>NaN</td>\n",
       "      <td>NaN</td>\n",
       "      <td>NaN</td>\n",
       "    </tr>\n",
       "    <tr>\n",
       "      <th>97</th>\n",
       "      <td>98</td>\n",
       "      <td>Promotional</td>\n",
       "      <td>10</td>\n",
       "      <td>287.59</td>\n",
       "      <td>Proprietary Card</td>\n",
       "      <td>Female</td>\n",
       "      <td>Married</td>\n",
       "      <td>52</td>\n",
       "      <td>NaN</td>\n",
       "      <td>NaN</td>\n",
       "      <td>NaN</td>\n",
       "      <td>NaN</td>\n",
       "      <td>NaN</td>\n",
       "    </tr>\n",
       "    <tr>\n",
       "      <th>98</th>\n",
       "      <td>99</td>\n",
       "      <td>Promotional</td>\n",
       "      <td>2</td>\n",
       "      <td>47.60</td>\n",
       "      <td>Proprietary Card</td>\n",
       "      <td>Female</td>\n",
       "      <td>Married</td>\n",
       "      <td>30</td>\n",
       "      <td>NaN</td>\n",
       "      <td>NaN</td>\n",
       "      <td>NaN</td>\n",
       "      <td>NaN</td>\n",
       "      <td>NaN</td>\n",
       "    </tr>\n",
       "    <tr>\n",
       "      <th>99</th>\n",
       "      <td>100</td>\n",
       "      <td>Promotional</td>\n",
       "      <td>1</td>\n",
       "      <td>28.44</td>\n",
       "      <td>Proprietary Card</td>\n",
       "      <td>Female</td>\n",
       "      <td>Married</td>\n",
       "      <td>44</td>\n",
       "      <td>NaN</td>\n",
       "      <td>NaN</td>\n",
       "      <td>NaN</td>\n",
       "      <td>NaN</td>\n",
       "      <td>NaN</td>\n",
       "    </tr>\n",
       "  </tbody>\n",
       "</table>\n",
       "<p>100 rows × 13 columns</p>\n",
       "</div>"
      ],
      "text/plain": [
       "    Customer Type of Customer  Items  Net Sales Method of Payment  Gender  \\\n",
       "0          1          Regular      1      39.50          Discover    Male   \n",
       "1          2      Promotional      1     102.40  Proprietary Card  Female   \n",
       "2          3          Regular      1      22.50  Proprietary Card  Female   \n",
       "3          4      Promotional      5     100.40  Proprietary Card  Female   \n",
       "4          5          Regular      2      54.00        MasterCard  Female   \n",
       "..       ...              ...    ...        ...               ...     ...   \n",
       "95        96          Regular      1      39.50        MasterCard  Female   \n",
       "96        97      Promotional      9     253.00  Proprietary Card  Female   \n",
       "97        98      Promotional     10     287.59  Proprietary Card  Female   \n",
       "98        99      Promotional      2      47.60  Proprietary Card  Female   \n",
       "99       100      Promotional      1      28.44  Proprietary Card  Female   \n",
       "\n",
       "   Marital Status  Age  Unnamed: 8  Unnamed: 9  Unnamed: 10  Unnamed: 11  \\\n",
       "0         Married   32         NaN         NaN          NaN          NaN   \n",
       "1         Married   36         NaN         NaN          NaN          NaN   \n",
       "2         Married   32         NaN         NaN          NaN          NaN   \n",
       "3         Married   28         NaN         NaN          NaN          NaN   \n",
       "4         Married   34         NaN         NaN          NaN          NaN   \n",
       "..            ...  ...         ...         ...          ...          ...   \n",
       "95        Married   44         NaN         NaN          NaN          NaN   \n",
       "96        Married   30         NaN         NaN          NaN          NaN   \n",
       "97        Married   52         NaN         NaN          NaN          NaN   \n",
       "98        Married   30         NaN         NaN          NaN          NaN   \n",
       "99        Married   44         NaN         NaN          NaN          NaN   \n",
       "\n",
       "    Unnamed: 12  \n",
       "0           NaN  \n",
       "1           NaN  \n",
       "2           NaN  \n",
       "3           NaN  \n",
       "4           NaN  \n",
       "..          ...  \n",
       "95          NaN  \n",
       "96          NaN  \n",
       "97          NaN  \n",
       "98          NaN  \n",
       "99          NaN  \n",
       "\n",
       "[100 rows x 13 columns]"
      ]
     },
     "execution_count": 87,
     "metadata": {},
     "output_type": "execute_result"
    }
   ],
   "source": [
    "cp1"
   ]
  },
  {
   "cell_type": "code",
   "execution_count": 88,
   "id": "6fdb3a2a-310c-44f3-98d0-05a12d74c4e3",
   "metadata": {},
   "outputs": [
    {
     "data": {
      "text/plain": [
       "Index(['Customer', 'Type of Customer', 'Items', 'Net Sales',\n",
       "       'Method of Payment', 'Gender', 'Marital Status', 'Age', 'Unnamed: 8',\n",
       "       'Unnamed: 9', 'Unnamed: 10', 'Unnamed: 11', 'Unnamed: 12'],\n",
       "      dtype='object')"
      ]
     },
     "execution_count": 88,
     "metadata": {},
     "output_type": "execute_result"
    }
   ],
   "source": [
    "cp1.columns"
   ]
  },
  {
   "cell_type": "code",
   "execution_count": 89,
   "id": "77a1a459-fd44-46f9-b3dd-b10d9cdef103",
   "metadata": {},
   "outputs": [
    {
     "data": {
      "text/html": [
       "<div>\n",
       "<style scoped>\n",
       "    .dataframe tbody tr th:only-of-type {\n",
       "        vertical-align: middle;\n",
       "    }\n",
       "\n",
       "    .dataframe tbody tr th {\n",
       "        vertical-align: top;\n",
       "    }\n",
       "\n",
       "    .dataframe thead th {\n",
       "        text-align: right;\n",
       "    }\n",
       "</style>\n",
       "<table border=\"1\" class=\"dataframe\">\n",
       "  <thead>\n",
       "    <tr style=\"text-align: right;\">\n",
       "      <th></th>\n",
       "      <th>Customer</th>\n",
       "      <th>Type of Customer</th>\n",
       "      <th>Items</th>\n",
       "      <th>Net Sales</th>\n",
       "      <th>Method of Payment</th>\n",
       "      <th>Gender</th>\n",
       "      <th>Marital Status</th>\n",
       "      <th>Age</th>\n",
       "    </tr>\n",
       "  </thead>\n",
       "  <tbody>\n",
       "    <tr>\n",
       "      <th>0</th>\n",
       "      <td>1</td>\n",
       "      <td>Regular</td>\n",
       "      <td>1</td>\n",
       "      <td>39.5</td>\n",
       "      <td>Discover</td>\n",
       "      <td>Male</td>\n",
       "      <td>Married</td>\n",
       "      <td>32</td>\n",
       "    </tr>\n",
       "    <tr>\n",
       "      <th>1</th>\n",
       "      <td>2</td>\n",
       "      <td>Promotional</td>\n",
       "      <td>1</td>\n",
       "      <td>102.4</td>\n",
       "      <td>Proprietary Card</td>\n",
       "      <td>Female</td>\n",
       "      <td>Married</td>\n",
       "      <td>36</td>\n",
       "    </tr>\n",
       "    <tr>\n",
       "      <th>2</th>\n",
       "      <td>3</td>\n",
       "      <td>Regular</td>\n",
       "      <td>1</td>\n",
       "      <td>22.5</td>\n",
       "      <td>Proprietary Card</td>\n",
       "      <td>Female</td>\n",
       "      <td>Married</td>\n",
       "      <td>32</td>\n",
       "    </tr>\n",
       "    <tr>\n",
       "      <th>3</th>\n",
       "      <td>4</td>\n",
       "      <td>Promotional</td>\n",
       "      <td>5</td>\n",
       "      <td>100.4</td>\n",
       "      <td>Proprietary Card</td>\n",
       "      <td>Female</td>\n",
       "      <td>Married</td>\n",
       "      <td>28</td>\n",
       "    </tr>\n",
       "    <tr>\n",
       "      <th>4</th>\n",
       "      <td>5</td>\n",
       "      <td>Regular</td>\n",
       "      <td>2</td>\n",
       "      <td>54.0</td>\n",
       "      <td>MasterCard</td>\n",
       "      <td>Female</td>\n",
       "      <td>Married</td>\n",
       "      <td>34</td>\n",
       "    </tr>\n",
       "  </tbody>\n",
       "</table>\n",
       "</div>"
      ],
      "text/plain": [
       "   Customer Type of Customer  Items  Net Sales Method of Payment  Gender  \\\n",
       "0         1          Regular      1       39.5          Discover    Male   \n",
       "1         2      Promotional      1      102.4  Proprietary Card  Female   \n",
       "2         3          Regular      1       22.5  Proprietary Card  Female   \n",
       "3         4      Promotional      5      100.4  Proprietary Card  Female   \n",
       "4         5          Regular      2       54.0        MasterCard  Female   \n",
       "\n",
       "  Marital Status  Age  \n",
       "0        Married   32  \n",
       "1        Married   36  \n",
       "2        Married   32  \n",
       "3        Married   28  \n",
       "4        Married   34  "
      ]
     },
     "execution_count": 89,
     "metadata": {},
     "output_type": "execute_result"
    }
   ],
   "source": [
    "# Drop all columns with \"Unnamed\" in the header\n",
    "cp1 = cp1.loc[:, ~cp1.columns.str.contains('^Unnamed')]\n",
    "\n",
    "# Display the DataFrame to confirm the removal\n",
    "cp1.head()"
   ]
  },
  {
   "cell_type": "code",
   "execution_count": 90,
   "id": "585235b6-c6bc-41ff-841c-b1ed64c3463e",
   "metadata": {},
   "outputs": [
    {
     "data": {
      "text/plain": [
       "['Customer',\n",
       " 'Type of Customer',\n",
       " 'Items',\n",
       " 'Net Sales',\n",
       " 'Method of Payment',\n",
       " 'Gender',\n",
       " 'Marital Status',\n",
       " 'Age']"
      ]
     },
     "execution_count": 90,
     "metadata": {},
     "output_type": "execute_result"
    }
   ],
   "source": [
    "col = cp1.columns.tolist()\n",
    "col"
   ]
  },
  {
   "cell_type": "code",
   "execution_count": 91,
   "id": "409a7e77-4a9c-4453-b298-f0c34741e7af",
   "metadata": {},
   "outputs": [
    {
     "name": "stdout",
     "output_type": "stream",
     "text": [
      "Customer :  [  1   2   3   4   5   6   7   8   9  10  11  12  13  14  15  16  17  18\n",
      "  19  20  21  22  23  24  25  26  27  28  29  30  31  32  33  34  35  36\n",
      "  37  38  39  40  41  42  43  44  45  46  47  48  49  50  51  52  53  54\n",
      "  55  56  57  58  59  60  61  62  63  64  65  66  67  68  69  70  71  72\n",
      "  73  74  75  76  77  78  79  80  81  82  83  84  85  86  87  88  89  90\n",
      "  91  92  93  94  95  96  97  98  99 100] \n",
      "\n",
      "Type of Customer :  ['Regular' 'Promotional'] \n",
      "\n",
      "Items :  [ 1  5  2  9  3  6  4  7 13  8 17 10] \n",
      "\n",
      "Net Sales :  [ 39.5  102.4   22.5  100.4   54.    44.5   78.    56.52  29.5   31.6\n",
      " 160.4   64.5   49.5   71.4   94.    54.5   38.5   44.8   70.82 266.\n",
      "  74.    30.02 192.8   71.2   18.    63.2   75.    40.   105.5  102.5\n",
      " 117.5   13.23  52.5  198.8   19.5  123.5   62.4   23.8   39.6   25.\n",
      "  63.64  14.82 145.2  176.62 118.8   58.   141.6  123.1   80.4   65.2\n",
      " 113.   108.8   59.91  53.6   59.5  146.8   47.2   95.05 155.32  69.\n",
      "  46.5   45.22  84.74  39.   111.14  86.8   89.    53.2   58.5   46.\n",
      "  37.5   20.8  144.   107.    57.6   95.2   22.42 159.75 229.5   66.\n",
      " 253.   287.59  47.6   28.44] \n",
      "\n",
      "Method of Payment :  ['Discover' 'Proprietary Card' 'MasterCard' 'Visa' 'American Express'] \n",
      "\n",
      "Gender :  ['Male' 'Female'] \n",
      "\n",
      "Marital Status :  ['Married' 'Single'] \n",
      "\n",
      "Age :  [32 36 28 34 44 30 40 46 48 24 22 56 38 50 42 60 54 70 52 58 68 78 20 62\n",
      " 74 72] \n",
      "\n"
     ]
    }
   ],
   "source": [
    "for i in col:\n",
    "    print(i,\": \",cp1[i].unique(),\"\\n\")"
   ]
  },
  {
   "cell_type": "code",
   "execution_count": 92,
   "id": "5182251e-0111-44ed-8a50-2ffc331550dd",
   "metadata": {},
   "outputs": [
    {
     "data": {
      "text/plain": [
       "Gender\n",
       "Female    93\n",
       "Male       7\n",
       "Name: count, dtype: int64"
      ]
     },
     "execution_count": 92,
     "metadata": {},
     "output_type": "execute_result"
    }
   ],
   "source": [
    "cp1['Gender'].value_counts().sort_index()"
   ]
  },
  {
   "cell_type": "code",
   "execution_count": 93,
   "id": "432f186c-ca23-4385-abc8-6609a63216c9",
   "metadata": {},
   "outputs": [],
   "source": [
    "toc = ['Regular', 'Promotional']\n",
    "item = cp1['Items'].unique().tolist()\n",
    "net_sales = [\n",
    "    '0-20.9   ',\n",
    "    '21-40.9  ',\n",
    "    '41-60.9  ',\n",
    "    '61-80.9  ',\n",
    "    '81-100.9 ',\n",
    "    '101-120.9',\n",
    "    '121-140.9',\n",
    "    '141-160.9',\n",
    "    '161-180.9',\n",
    "    '181-200.9',\n",
    "    '201-220.9',\n",
    "    '221-240.9',\n",
    "    '241-260.9',\n",
    "    '261-280.9',\n",
    "    '281-300.9'\n",
    "]\n",
    "payment_met = ['Discover          ' ,'Proprietary Card  ' ,'MasterCard\\t  ', 'Visa\\t          ', 'American Express  ']\n",
    "gender = ['Female', 'Male  '] \n",
    "marital_status = ['Married ' ,'Single  '] \n",
    "age = [\n",
    "    '20-30',\n",
    "    '31-40',\n",
    "    '41-50',\n",
    "    '51-60',\n",
    "    '61-70',\n",
    "    '71-80'\n",
    "]"
   ]
  },
  {
   "cell_type": "code",
   "execution_count": 94,
   "id": "cc389845-f18d-437a-8f45-454a27de1a01",
   "metadata": {},
   "outputs": [],
   "source": [
    "freq_type_of_cus = cp1['Type of Customer'].value_counts().tolist()\n",
    "total = sum(freq_type_of_cus)\n",
    "rel_freq_toc = [round(i/total,4) for i in freq_type_of_cus] \n",
    "per_freq_toc = [round(i*100,2) for i in rel_freq_toc]\n",
    "cum_freq_toc =[]\n",
    "cum_rel_freq_toc = []\n",
    "cum_per_freq_toc = []\n",
    "a=0\n",
    "b=0\n",
    "c=0\n",
    "for i,j,k in zip(freq_type_of_cus,rel_freq_toc,per_freq_toc):\n",
    "    a = a+i\n",
    "    cum_freq_toc.append(a)\n",
    "    b = b+j\n",
    "    cum_rel_freq_toc.append(b)\n",
    "    c=c+k\n",
    "    cum_per_freq_toc.append(c)"
   ]
  },
  {
   "cell_type": "code",
   "execution_count": 95,
   "id": "0b9d8c90-cc59-462f-8530-5e09df312505",
   "metadata": {},
   "outputs": [],
   "source": [
    "freq_items = cp1['Items'].value_counts().tolist()\n",
    "total = sum(freq_items)\n",
    "rel_freq_items = [round(i/total,2) for i in freq_items] \n",
    "per_freq_items = [round(i*100,2) for i in rel_freq_items]\n",
    "cum_freq_items =[]\n",
    "cum_rel_freq_items = []\n",
    "cum_per_freq_items = []\n",
    "a=0\n",
    "b=0\n",
    "c=0\n",
    "for i,j,k in zip(freq_items,rel_freq_items,per_freq_items):\n",
    "    a = a+i\n",
    "    cum_freq_items.append(a)\n",
    "    b = b+j\n",
    "    cum_rel_freq_items.append(b)\n",
    "    c=c+k\n",
    "    cum_per_freq_items.append(c)"
   ]
  },
  {
   "cell_type": "code",
   "execution_count": 96,
   "id": "a2ff0c95-06f6-4d49-a19c-20a6261d6eb2",
   "metadata": {},
   "outputs": [],
   "source": [
    "freq_pm = cp1['Method of Payment'].value_counts().tolist()\n",
    "total = sum(freq_pm)\n",
    "rel_freq_pm = [round(i/total,2) for i in freq_pm] \n",
    "per_freq_pm = [round(i*100,2) for i in rel_freq_pm]\n",
    "cum_freq_pm =[]\n",
    "cum_rel_freq_pm = []\n",
    "cum_per_freq_pm = []\n",
    "a=0\n",
    "b=0\n",
    "c=0\n",
    "for i,j,k in zip(freq_pm,rel_freq_pm,per_freq_pm):\n",
    "    a = a+i\n",
    "    cum_freq_pm.append(a)\n",
    "    b = b+j\n",
    "    cum_rel_freq_pm.append(b)\n",
    "    c=c+k\n",
    "    cum_per_freq_pm.append(c)"
   ]
  },
  {
   "cell_type": "code",
   "execution_count": 97,
   "id": "9114f738-f116-4ebd-9eda-789dc2ab689c",
   "metadata": {},
   "outputs": [],
   "source": [
    "freq_g = cp1['Gender'].value_counts().tolist()\n",
    "total = sum(freq_g)\n",
    "rel_freq_g = [round(i/total,2) for i in freq_g] \n",
    "per_freq_g = [round(i*100,2) for i in rel_freq_g]\n",
    "cum_freq_g =[]\n",
    "cum_rel_freq_g = []\n",
    "cum_per_freq_g = []\n",
    "a=0\n",
    "b=0\n",
    "c=0\n",
    "for i,j,k in zip(freq_g,rel_freq_g,per_freq_g):\n",
    "    a = a+i\n",
    "    cum_freq_g.append(a)\n",
    "    b = b+j\n",
    "    cum_rel_freq_g.append(b)\n",
    "    c=c+k\n",
    "    cum_per_freq_g.append(c)"
   ]
  },
  {
   "cell_type": "code",
   "execution_count": 98,
   "id": "a7fe6299-7961-404e-9b38-b223b7b75a29",
   "metadata": {},
   "outputs": [],
   "source": [
    "freq_ms = cp1['Marital Status'].value_counts().tolist()\n",
    "total = sum(freq_ms)\n",
    "rel_freq_ms = [round(i/total,2) for i in freq_ms] \n",
    "per_freq_ms = [round(i*100,2) for i in rel_freq_ms]\n",
    "cum_freq_ms =[]\n",
    "cum_rel_freq_ms = []\n",
    "cum_per_freq_ms = []\n",
    "a=0\n",
    "b=0\n",
    "c=0\n",
    "for i,j,k in zip(freq_ms,rel_freq_ms,per_freq_ms):\n",
    "    a = a+i\n",
    "    cum_freq_ms.append(a)\n",
    "    b = b+j\n",
    "    cum_rel_freq_ms.append(b)\n",
    "    c=c+k\n",
    "    cum_per_freq_ms.append(c)"
   ]
  },
  {
   "cell_type": "code",
   "execution_count": 99,
   "id": "e936d344-0c65-4d5a-97fb-cc2126488205",
   "metadata": {},
   "outputs": [],
   "source": [
    "ns = cp1['Net Sales'].tolist()\n",
    "def find_index_ns(value):\n",
    "    for index, range_str in enumerate(net_sales):\n",
    "        lower,upper = map(float, range_str.split('-'))\n",
    "        if lower<=value<=upper:\n",
    "            return index\n",
    "    return None\n",
    "\n",
    "n = [[] for _ in range(len(net_sales))]\n",
    "for i in ns:\n",
    "    ns_index = find_index_ns(i)\n",
    "    if ns_index is not None:  # Only append if a valid index is found\n",
    "        n[ns_index].append(i)\n",
    "\n",
    "freq_ns = [len(i) for i in n]\n",
    "total = sum(freq_ns)\n",
    "rel_freq_ns = [round(i/total,2) for i in freq_ns]\n",
    "per_freq_ns = [round(i*100,2) for i in rel_freq_ns]\n",
    "cum_freq_ns =[]\n",
    "cum_rel_freq_ns = []\n",
    "cum_per_freq_ns = []\n",
    "a=0\n",
    "b=0\n",
    "c=0\n",
    "for i,j,k in zip(freq_ns,rel_freq_ns,per_freq_ns):\n",
    "    a = a+i\n",
    "    cum_freq_ns.append(a)\n",
    "    b = b+j\n",
    "    cum_rel_freq_ns.append(b)\n",
    "    c=c+k\n",
    "    cum_per_freq_ns.append(c)"
   ]
  },
  {
   "cell_type": "code",
   "execution_count": 100,
   "id": "89fb5f87-03c7-4ce0-a8ac-b8070cf62fc1",
   "metadata": {},
   "outputs": [],
   "source": [
    "a = cp1['Age'].tolist()\n",
    "def find_index_a(value):\n",
    "    for index, range_str in enumerate(age):\n",
    "        lower,upper = map(float, range_str.split('-'))\n",
    "        if lower<=value<=upper:\n",
    "            return index\n",
    "    return None\n",
    "\n",
    "a1 = [[] for _ in range(len(age))]\n",
    "for i in a:\n",
    "    a_index = find_index_a(i)\n",
    "    if a_index is not None:  # Only append if a valid index is found\n",
    "        a1[a_index].append(i)\n",
    "\n",
    "freq_a = [len(i) for i in a1]\n",
    "total = len(a)\n",
    "rel_freq_a = [round(i/total,2) for i in freq_a]\n",
    "per_freq_a = [round(i*100,2) for i in rel_freq_a]\n",
    "cum_freq_a =[]\n",
    "cum_rel_freq_a = []\n",
    "cum_per_freq_a = []\n",
    "a2=0\n",
    "b=0\n",
    "c=0\n",
    "for i,j,k in zip(freq_a,rel_freq_a,per_freq_a):\n",
    "    a2 = a2+i\n",
    "    cum_freq_a.append(a2)\n",
    "    b = b+j\n",
    "    cum_rel_freq_a.append(b)\n",
    "    c=c+k\n",
    "    cum_per_freq_a.append(c)"
   ]
  },
  {
   "cell_type": "code",
   "execution_count": null,
   "id": "2e3108d1-5588-472c-a778-931c81cf6225",
   "metadata": {},
   "outputs": [],
   "source": []
  },
  {
   "cell_type": "code",
   "execution_count": 102,
   "id": "65af2a73-04b0-4a07-9298-6d4f10c994d4",
   "metadata": {},
   "outputs": [
    {
     "name": "stdout",
     "output_type": "stream",
     "text": [
      "----------------------------------------------------------------------------------------------------------------------------\n",
      "Type of Customer  Frequency  Relative Freq.  Percent Freq.  Cumulative Freq.  Cumulative Rel. Freq.  Cumulative Per. Freq.\n",
      "Regular \t     70 \t 0.7 \t        70.0 \t        70 \t\t   0.7 \t\t\t  70.0\n",
      "Promotional \t     30 \t 0.3 \t        30.0 \t        100 \t\t   1.0 \t\t\t  100.0\n",
      "----------------------------------------------------------------------------------------------------------------------------\n",
      "\n",
      "----------------------------------------------------------------------------------------------------------------------------\n",
      "Items  Frequency  Relative Freq.  Percent Freq.  Cumulative Freq.  Cumulative Rel. Freq.  Cumulative Per. Freq.\n",
      "1 \t 29 \t     0.29 \t        29.0 \t        29 \t\t   0.29 \t\t    29.0\n",
      "5 \t 27 \t     0.27 \t        27.0 \t        56 \t\t   0.56 \t\t    56.0\n",
      "2 \t 10 \t     0.1 \t        10.0 \t        66 \t\t   0.66 \t\t    66.0\n",
      "9 \t 10 \t     0.1 \t        10.0 \t        76 \t\t   0.76 \t\t    76.0\n",
      "3 \t 9 \t     0.09 \t        9.0 \t        85 \t\t   0.85 \t\t    85.0\n",
      "6 \t 7 \t     0.07 \t        7.0 \t        92 \t\t   0.9199999999999999 \t\t    92.0\n",
      "4 \t 3 \t     0.03 \t        3.0 \t        95 \t\t   0.95 \t\t    95.0\n",
      "7 \t 1 \t     0.01 \t        1.0 \t        96 \t\t   0.96 \t\t    96.0\n",
      "13 \t 1 \t     0.01 \t        1.0 \t        97 \t\t   0.97 \t\t    97.0\n",
      "8 \t 1 \t     0.01 \t        1.0 \t        98 \t\t   0.98 \t\t    98.0\n",
      "17 \t 1 \t     0.01 \t        1.0 \t        99 \t\t   0.99 \t\t    99.0\n",
      "10 \t 1 \t     0.01 \t        1.0 \t        100 \t\t   1.0 \t\t    100.0\n",
      "----------------------------------------------------------------------------------------------------------------------------\n",
      "\n",
      "----------------------------------------------------------------------------------------------------------------------------\n",
      "Payment Method  Frequency  Relative Freq.  Percent Freq.  Cumulative Freq.  Cumulative Rel. Freq.  Cumulative Per. Freq.\n",
      "Discover           70 \t\t 0.7 \t\t 70.0 \t\t 70 \t\t  0.7 \t\t      70.0\n",
      "Proprietary Card   14 \t\t 0.14 \t\t 14.0 \t\t 84 \t\t  0.84 \t\t      84.0\n",
      "MasterCard\t   10 \t\t 0.1 \t\t 10.0 \t\t 94 \t\t  0.94 \t\t      94.0\n",
      "Visa\t           4 \t\t 0.04 \t\t 4.0 \t\t 98 \t\t  0.98 \t\t      98.0\n",
      "American Express   2 \t\t 0.02 \t\t 2.0 \t\t 100 \t\t  1.0 \t\t      100.0\n",
      "----------------------------------------------------------------------------------------------------------------------------\n",
      "\n",
      "----------------------------------------------------------------------------------------------------------------------------\n",
      "Gender  Frequency  Relative Freq.  Percent Freq.  Cumulative Freq.  Cumulative Rel. Freq.  Cumulative Per. Freq.\n",
      "Female \t    93 \t\t 0.93 \t\t 93.0 \t\t 93 \t\t  0.93 \t\t      93.0\n",
      "Male   \t    7 \t\t 0.07 \t\t 7.0 \t\t 100 \t\t  1.0 \t\t      100.0\n",
      "----------------------------------------------------------------------------------------------------------------------------\n",
      "\n",
      "----------------------------------------------------------------------------------------------------------------------------\n",
      "Marital Status  Frequency  Relative Freq.  Percent Freq.  Cumulative Freq.  Cumulative Rel. Freq.  Cumulative Per. Freq.\n",
      "Married  \t     84 \t  0.84 \t\t 84.0 \t\t 84 \t\t  0.84 \t\t      84.0\n",
      "Single   \t     16 \t  0.16 \t\t 16.0 \t\t 100 \t\t  1.0 \t\t      100.0\n",
      "----------------------------------------------------------------------------------------------------------------------------\n",
      "\n",
      "----------------------------------------------------------------------------------------------------------------------------\n",
      "Net Sales  Frequency  Relative Freq.  Percent Freq.  Cumulative Freq.  Cumulative Rel. Freq.  Cumulative Per. Freq.\n",
      "0-20.9    \t 5 \t  0.05 \t\t 5.0 \t\t 5 \t\t  0.05 \t\t      5.0\n",
      "21-40.9   \t 22 \t  0.22 \t\t 22.0 \t\t 27 \t\t  0.27 \t\t      27.0\n",
      "41-60.9   \t 24 \t  0.24 \t\t 24.0 \t\t 51 \t\t  0.51 \t\t      51.0\n",
      "61-80.9   \t 17 \t  0.17 \t\t 17.0 \t\t 68 \t\t  0.68 \t\t      68.0\n",
      "81-100.9  \t 7 \t  0.07 \t\t 7.0 \t\t 75 \t\t  0.75 \t\t      75.0\n",
      "101-120.9 \t 9 \t  0.09 \t\t 9.0 \t\t 84 \t\t  0.84 \t\t      84.0\n",
      "121-140.9 \t 2 \t  0.02 \t\t 2.0 \t\t 86 \t\t  0.86 \t\t      86.0\n",
      "141-160.9 \t 7 \t  0.07 \t\t 7.0 \t\t 93 \t\t  0.9299999999999999 \t\t      93.0\n",
      "161-180.9 \t 1 \t  0.01 \t\t 1.0 \t\t 94 \t\t  0.94 \t\t      94.0\n",
      "181-200.9 \t 2 \t  0.02 \t\t 2.0 \t\t 96 \t\t  0.96 \t\t      96.0\n",
      "201-220.9 \t 0 \t  0.0 \t\t 0.0 \t\t 96 \t\t  0.96 \t\t      96.0\n",
      "221-240.9 \t 1 \t  0.01 \t\t 1.0 \t\t 97 \t\t  0.97 \t\t      97.0\n",
      "241-260.9 \t 1 \t  0.01 \t\t 1.0 \t\t 98 \t\t  0.98 \t\t      98.0\n",
      "261-280.9 \t 1 \t  0.01 \t\t 1.0 \t\t 99 \t\t  0.99 \t\t      99.0\n",
      "281-300.9 \t 1 \t  0.01 \t\t 1.0 \t\t 100 \t\t  1.0 \t\t      100.0\n",
      "----------------------------------------------------------------------------------------------------------------------------\n",
      "\n",
      "----------------------------------------------------------------------------------------------------------------------------\n",
      "Age  Frequency  Relative Freq.  Percent Freq.  Cumulative Freq.  Cumulative Rel. Freq.  Cumulative Per. Freq.\n",
      "20-30 \t 18 \t  0.18 \t\t 18.0 \t\t 18 \t\t  0.18 \t\t \t     18.0\n",
      "31-40 \t 26 \t  0.26 \t\t 26.0 \t\t 44 \t\t  0.44 \t\t \t     44.0\n",
      "41-50 \t 32 \t  0.32 \t\t 32.0 \t\t 76 \t\t  0.76 \t\t \t     76.0\n",
      "51-60 \t 15 \t  0.15 \t\t 15.0 \t\t 91 \t\t  0.91 \t\t \t     91.0\n",
      "61-70 \t 6 \t  0.06 \t\t 6.0 \t\t 97 \t\t  0.97 \t\t \t     97.0\n",
      "71-80 \t 3 \t  0.03 \t\t 3.0 \t\t 100 \t\t  1.0 \t\t \t     100.0\n",
      "----------------------------------------------------------------------------------------------------------------------------\n",
      "\n"
     ]
    }
   ],
   "source": [
    "print(\"----------------------------------------------------------------------------------------------------------------------------\")\n",
    "print(\"Type of Customer  Frequency  Relative Freq.  Percent Freq.  Cumulative Freq.  Cumulative Rel. Freq.  Cumulative Per. Freq.\")\n",
    "for i,j,k,l,m,n,o in zip(toc, freq_type_of_cus,rel_freq_toc,per_freq_toc, cum_freq_toc,cum_rel_freq_toc,cum_per_freq_toc):\n",
    "    print(i,\"\\t    \",j,\"\\t\",k,\"\\t       \",l,\"\\t       \",m,\"\\t\\t  \",n,\"\\t\\t\\t \",o)\n",
    "print(\"----------------------------------------------------------------------------------------------------------------------------\\n\")\n",
    "print(\"----------------------------------------------------------------------------------------------------------------------------\")\n",
    "print(\"Items  Frequency  Relative Freq.  Percent Freq.  Cumulative Freq.  Cumulative Rel. Freq.  Cumulative Per. Freq.\")\n",
    "for i,j,k,l,m,n,o in zip(item, freq_items,rel_freq_items,per_freq_items, cum_freq_items,cum_rel_freq_items,cum_per_freq_items):\n",
    "    print(i,\"\\t\",j,\"\\t    \",k,\"\\t       \",l,\"\\t       \",m,\"\\t\\t  \",n,\"\\t\\t   \",o) \n",
    "print(\"----------------------------------------------------------------------------------------------------------------------------\\n\")\n",
    "print(\"----------------------------------------------------------------------------------------------------------------------------\")\n",
    "print(\"Payment Method  Frequency  Relative Freq.  Percent Freq.  Cumulative Freq.  Cumulative Rel. Freq.  Cumulative Per. Freq.\")\n",
    "for i,j,k,l,m,n,o in zip(payment_met, freq_pm,rel_freq_pm,per_freq_pm, cum_freq_pm,cum_rel_freq_pm,cum_per_freq_pm):\n",
    "    print(i,j,\"\\t\\t\",k,\"\\t\\t\",l,\"\\t\\t\",m,\"\\t\\t \",n,\"\\t\\t     \",o) \n",
    "print(\"----------------------------------------------------------------------------------------------------------------------------\\n\")\n",
    "print(\"----------------------------------------------------------------------------------------------------------------------------\")\n",
    "print(\"Gender  Frequency  Relative Freq.  Percent Freq.  Cumulative Freq.  Cumulative Rel. Freq.  Cumulative Per. Freq.\")\n",
    "for i,j,k,l,m,n,o in zip(gender, freq_g,rel_freq_g,per_freq_g, cum_freq_g,cum_rel_freq_g,cum_per_freq_g):\n",
    "    print(i,\"\\t   \",j,\"\\t\\t\",k,\"\\t\\t\",l,\"\\t\\t\",m,\"\\t\\t \",n,\"\\t\\t     \",o) \n",
    "print(\"----------------------------------------------------------------------------------------------------------------------------\\n\")\n",
    "print(\"----------------------------------------------------------------------------------------------------------------------------\")\n",
    "print(\"Marital Status  Frequency  Relative Freq.  Percent Freq.  Cumulative Freq.  Cumulative Rel. Freq.  Cumulative Per. Freq.\")\n",
    "for i,j,k,l,m,n,o in zip(marital_status, freq_ms,rel_freq_ms,per_freq_ms, cum_freq_ms,cum_rel_freq_ms,cum_per_freq_ms):\n",
    "    print(i,\"\\t    \",j,\"\\t \",k,\"\\t\\t\",l,\"\\t\\t\",m,\"\\t\\t \",n,\"\\t\\t     \",o) \n",
    "print(\"----------------------------------------------------------------------------------------------------------------------------\\n\")\n",
    "print(\"----------------------------------------------------------------------------------------------------------------------------\")\n",
    "print(\"Net Sales  Frequency  Relative Freq.  Percent Freq.  Cumulative Freq.  Cumulative Rel. Freq.  Cumulative Per. Freq.\")\n",
    "for i,j,k,l,m,n,o in zip(net_sales, freq_ns,rel_freq_ns,per_freq_ns, cum_freq_ns,cum_rel_freq_ns,cum_per_freq_ns):\n",
    "    print(i,\"\\t\",j,\"\\t \",k,\"\\t\\t\",l,\"\\t\\t\",m,\"\\t\\t \",n,\"\\t\\t     \",o) \n",
    "print(\"----------------------------------------------------------------------------------------------------------------------------\\n\")\n",
    "print(\"----------------------------------------------------------------------------------------------------------------------------\")\n",
    "print(\"Age  Frequency  Relative Freq.  Percent Freq.  Cumulative Freq.  Cumulative Rel. Freq.  Cumulative Per. Freq.\")\n",
    "for i,j,k,l,m,n,o in zip(age, freq_a,rel_freq_a,per_freq_a, cum_freq_a,cum_rel_freq_a,cum_per_freq_a):\n",
    "    print(i,\"\\t\",j,\"\\t \",k,\"\\t\\t\",l,\"\\t\\t\",m,\"\\t\\t \",n,\"\\t\\t \\t    \",o) \n",
    "print(\"----------------------------------------------------------------------------------------------------------------------------\\n\")"
   ]
  },
  {
   "cell_type": "code",
   "execution_count": 103,
   "id": "630396c5-09ba-48a3-9cc4-2e6b774695f6",
   "metadata": {},
   "outputs": [
    {
     "data": {
      "text/html": [
       "<div>\n",
       "<style scoped>\n",
       "    .dataframe tbody tr th:only-of-type {\n",
       "        vertical-align: middle;\n",
       "    }\n",
       "\n",
       "    .dataframe tbody tr th {\n",
       "        vertical-align: top;\n",
       "    }\n",
       "\n",
       "    .dataframe thead th {\n",
       "        text-align: right;\n",
       "    }\n",
       "</style>\n",
       "<table border=\"1\" class=\"dataframe\">\n",
       "  <thead>\n",
       "    <tr style=\"text-align: right;\">\n",
       "      <th>Marital Status</th>\n",
       "      <th>Married</th>\n",
       "      <th>Single</th>\n",
       "    </tr>\n",
       "    <tr>\n",
       "      <th>Gender</th>\n",
       "      <th></th>\n",
       "      <th></th>\n",
       "    </tr>\n",
       "  </thead>\n",
       "  <tbody>\n",
       "    <tr>\n",
       "      <th>Female</th>\n",
       "      <td>80</td>\n",
       "      <td>13</td>\n",
       "    </tr>\n",
       "    <tr>\n",
       "      <th>Male</th>\n",
       "      <td>4</td>\n",
       "      <td>3</td>\n",
       "    </tr>\n",
       "  </tbody>\n",
       "</table>\n",
       "</div>"
      ],
      "text/plain": [
       "Marital Status  Married  Single\n",
       "Gender                         \n",
       "Female               80      13\n",
       "Male                  4       3"
      ]
     },
     "execution_count": 103,
     "metadata": {},
     "output_type": "execute_result"
    }
   ],
   "source": [
    "cross_tab = pd.crosstab(cp1['Gender'], cp1['Marital Status'])\n",
    "cross_tab"
   ]
  },
  {
   "cell_type": "code",
   "execution_count": 104,
   "id": "b5af7113-3e13-4781-a4b5-830e64a08a03",
   "metadata": {},
   "outputs": [
    {
     "data": {
      "image/png": "[encoded data removed]",
      "text/plain": [
       "<Figure size 1000x800 with 1 Axes>"
      ]
     },
     "metadata": {},
     "output_type": "display_data"
    }
   ],
   "source": [
    "  plt.figure(figsize=(10,8))\n",
    "plt.pie(per_freq_pm, labels=payment_met, autopct='%1.1f%%', startangle=140)\n",
    "plt.title('Payment Method Distribution')\n",
    "plt.show()"
   ]
  },
  {
   "cell_type": "code",
   "execution_count": 105,
   "id": "725b64dd-7b7d-4619-a766-e38540125c8e",
   "metadata": {},
   "outputs": [
    {
     "data": {
      "image/png": "[encoded data removed]",
      "text/plain": [
       "<Figure size 3000x1200 with 2 Axes>"
      ]
     },
     "metadata": {},
     "output_type": "display_data"
    }
   ],
   "source": [
    "fig, ax = plt.subplots(nrows=1, ncols=2, figsize=(30,12))\n",
    "\n",
    "ax[0].bar(net_sales,freq_ns,color=\"skyblue\")\n",
    "ax[0].set_title(\"Frequency Histogram\")\n",
    "ax[0].set_xlabel(\"Net Sales\")\n",
    "ax[0].set_ylabel(\"Frequency\")\n",
    "\n",
    "ax[1].bar(net_sales,per_freq_ns, color='lightgreen')\n",
    "ax[1].set_title(\"Percent Frequency Histogram\")\n",
    "ax[1].set_xlabel(\"Net Sales Distribution\")\n",
    "ax[1].set_ylabel(\"Percent Frequency\")\n",
    "\n",
    "plt.tight_layout()\n",
    "plt.show()"
   ]
  },
  {
   "cell_type": "markdown",
   "id": "3ee7d340-b0cf-4fe2-a2a5-7a03137fdedc",
   "metadata": {},
   "source": [
    "Introduction<br>\n",
    "Pelican Stores recently conducted a promotional campaign by distributing discount coupons. This report evaluates the performance of this promotional campaign using customer data related to the type of customer (regular vs. promotional), payment methods, gender, marital status, net sales, and age demographics. The aim is to analyze the effectiveness of the promotional strategy and provide actionable insights for future marketing initiatives.\n",
    "\n",
    "Customer Profile<br>\n",
    "Type of Customer: 70 customers purchased as regular customers (70%), while 30 customers used promotional coupons (30%). This indicates a significant uptake of the promotional offer.\n",
    "\n",
    "Gender and Marital Status:<br>\n",
    "The majority of customers are female (93 out of 100), with 87% of promotional coupon users being female.\n",
    "Of these customers, 84% are married, which suggests that married individuals are a significant demographic in Pelican Stores' customer base.\n",
    "\n",
    "Purchasing Patterns<br>\n",
    "Top Items Purchased: Items 1 and 5 are the most frequently purchased, with relative frequencies of 29% and 27%, respectively. This suggests a concentration in specific goods which may indicate popular items or those most impacted by promotions.\n",
    "Payment Methods:\n",
    "Discover is the most popular payment method among customers, accounting for 70% of transactions.\n",
    "Proprietary cards are also significant, making up 14% of payments, which might indicate customer loyalty through store-specific benefits.\n",
    "\n",
    "Sales Analysis<br>\n",
    "Net Sales Distribution: The net sales data shows a varied range of spending with significant activity in the lower spending brackets (0-60.9) and a cumulative frequency of 51% for sales up to $60.9. The data indicates moderate spending behavior, with a decrease in frequency as the amount increases.\n",
    "Age Demographics\n",
    "Most customers fall within the 41-50 age range (32%), followed by the 31-40 (26%) and 51-60 (15%) age ranges. This age distribution may guide targeted marketing efforts, focusing on middle-aged customers.\n",
    "\n",
    "Insights and Recommendations<br>\n",
    "Promotional Effectiveness: The promotional strategy successfully attracted about 30% of the customer base, indicating an effective reach. However, to increase future campaign performance, targeting strategies could be more focused on the demographics with the highest engagement, specifically middle-aged, married females.\n",
    "Product Focus: Given the popularity of specific items (Items 1 and 5), it might be beneficial to analyze what drives the high demand for these products and consider applying similar strategies to other inventory.\n",
    "Payment Method Insights: The dominance of Discover and proprietary cards suggests trust and potential financial benefits are associated with these methods. Offering incentives for using proprietary cards could increase their use and foster greater loyalty.\n",
    "Marital Status and Gender Targeting: The significant representation of married females in the customer base should be leveraged in marketing campaigns. Tailoring promotions that appeal to family or household needs could resonate well with this segment.\n",
    "\n",
    "Conclusion<br>\n",
    "Pelican Stores' promotional campaign shows positive traction, particularly among married women who predominantly use Discover and proprietary cards. A focus on middle-aged demographics and specific high-demand products could further enhance future promotional strategies, potentially increasing overall sales and customer loyalty."
   ]
  },
  {
   "cell_type": "markdown",
   "id": "9286c16a-0067-4844-9d75-bb120988b2ee",
   "metadata": {},
   "source": [
    "# Case Study 2: MOVIE THEATER RELEASE"
   ]
  },
  {
   "cell_type": "code",
   "execution_count": 137,
   "id": "ac5d2f11-9979-4f0e-a3e6-ae5906bb6336",
   "metadata": {},
   "outputs": [],
   "source": [
    "cp2 = pd.read_excel('Movies2016.xlsx')"
   ]
  },
  {
   "cell_type": "code",
   "execution_count": 138,
   "id": "46047a0b-1905-42f4-8146-f4b90c6fe24f",
   "metadata": {},
   "outputs": [
    {
     "data": {
      "text/html": [
       "<div>\n",
       "<style scoped>\n",
       "    .dataframe tbody tr th:only-of-type {\n",
       "        vertical-align: middle;\n",
       "    }\n",
       "\n",
       "    .dataframe tbody tr th {\n",
       "        vertical-align: top;\n",
       "    }\n",
       "\n",
       "    .dataframe thead th {\n",
       "        text-align: right;\n",
       "    }\n",
       "</style>\n",
       "<table border=\"1\" class=\"dataframe\">\n",
       "  <thead>\n",
       "    <tr style=\"text-align: right;\">\n",
       "      <th></th>\n",
       "      <th>Movie Title</th>\n",
       "      <th>Opening Gross Sales ($ millions)</th>\n",
       "      <th>Total Gross Sales ($ millions)</th>\n",
       "      <th>Number of Theaters</th>\n",
       "      <th>Weeks in Release</th>\n",
       "    </tr>\n",
       "  </thead>\n",
       "  <tbody>\n",
       "    <tr>\n",
       "      <th>0</th>\n",
       "      <td>Rogue One: A Star Wars Story</td>\n",
       "      <td>155.08</td>\n",
       "      <td>532.18</td>\n",
       "      <td>4157</td>\n",
       "      <td>20</td>\n",
       "    </tr>\n",
       "    <tr>\n",
       "      <th>1</th>\n",
       "      <td>Finding Dory</td>\n",
       "      <td>135.06</td>\n",
       "      <td>486.30</td>\n",
       "      <td>4305</td>\n",
       "      <td>25</td>\n",
       "    </tr>\n",
       "    <tr>\n",
       "      <th>2</th>\n",
       "      <td>Captain America: Civil War</td>\n",
       "      <td>179.14</td>\n",
       "      <td>408.08</td>\n",
       "      <td>4226</td>\n",
       "      <td>20</td>\n",
       "    </tr>\n",
       "    <tr>\n",
       "      <th>3</th>\n",
       "      <td>The Secret Life of Pets</td>\n",
       "      <td>104.35</td>\n",
       "      <td>368.38</td>\n",
       "      <td>4381</td>\n",
       "      <td>25</td>\n",
       "    </tr>\n",
       "    <tr>\n",
       "      <th>4</th>\n",
       "      <td>The Jungle Book (2016)</td>\n",
       "      <td>103.26</td>\n",
       "      <td>364.00</td>\n",
       "      <td>4144</td>\n",
       "      <td>24</td>\n",
       "    </tr>\n",
       "  </tbody>\n",
       "</table>\n",
       "</div>"
      ],
      "text/plain": [
       "                    Movie Title  Opening Gross Sales ($ millions)  \\\n",
       "0  Rogue One: A Star Wars Story                            155.08   \n",
       "1                  Finding Dory                            135.06   \n",
       "2    Captain America: Civil War                            179.14   \n",
       "3       The Secret Life of Pets                            104.35   \n",
       "4        The Jungle Book (2016)                            103.26   \n",
       "\n",
       "   Total Gross Sales ($ millions)  Number of Theaters  Weeks in Release  \n",
       "0                          532.18                4157                20  \n",
       "1                          486.30                4305                25  \n",
       "2                          408.08                4226                20  \n",
       "3                          368.38                4381                25  \n",
       "4                          364.00                4144                24  "
      ]
     },
     "execution_count": 138,
     "metadata": {},
     "output_type": "execute_result"
    }
   ],
   "source": [
    "cp2.head()"
   ]
  },
  {
   "cell_type": "code",
   "execution_count": 139,
   "id": "535d49d4-1911-4d46-8e57-1e71459ca1e9",
   "metadata": {},
   "outputs": [
    {
     "data": {
      "text/plain": [
       "(100, 5)"
      ]
     },
     "execution_count": 139,
     "metadata": {},
     "output_type": "execute_result"
    }
   ],
   "source": [
    "cp2.shape"
   ]
  },
  {
   "cell_type": "code",
   "execution_count": 140,
   "id": "2931026c-282e-4ebd-9815-5c61abdb9329",
   "metadata": {},
   "outputs": [],
   "source": [
    "cp2.rename(columns={'Movie Title':'Movie', 'Opening Gross Sales ($ millions)':'Opening_gross_sales','Total Gross Sales ($ millions)':'Total_gross_sales','Number of Theaters':'num_of_theaters', 'Weeks in Release':'week'},inplace=True)"
   ]
  },
  {
   "cell_type": "code",
   "execution_count": 141,
   "id": "8a451614-e4f7-49db-bf37-0767eec909fb",
   "metadata": {},
   "outputs": [
    {
     "data": {
      "text/plain": [
       "['Movie',\n",
       " 'Opening_gross_sales',\n",
       " 'Total_gross_sales',\n",
       " 'num_of_theaters',\n",
       " 'week']"
      ]
     },
     "execution_count": 141,
     "metadata": {},
     "output_type": "execute_result"
    }
   ],
   "source": [
    "col = cp2.columns.tolist()\n",
    "col"
   ]
  },
  {
   "cell_type": "code",
   "execution_count": 142,
   "id": "d974b160-d35d-4785-8e7f-fdc69dd79ecd",
   "metadata": {},
   "outputs": [
    {
     "name": "stdout",
     "output_type": "stream",
     "text": [
      "Movie :  ['Rogue One: A Star Wars Story' 'Finding Dory'\n",
      " 'Captain America: Civil War' 'The Secret Life of Pets'\n",
      " 'The Jungle Book (2016)' 'Deadpool' 'Zootopia'\n",
      " 'Batman v Superman: Dawn of Justice' 'Suicide Squad' 'Sing' 'Moana'\n",
      " 'Fantastic Beasts and Where To Find Them' 'Doctor Strange'\n",
      " 'Hidden Figures' 'Jason Bourne' 'Star Trek Beyond' 'X-Men: Apocalypse'\n",
      " 'Trolls' 'La La Land' 'Kung Fu Panda 3' 'Ghostbusters (2016)'\n",
      " 'Central Intelligence' 'The Legend of Tarzan' 'Sully' 'Bad Moms'\n",
      " 'The Angry Birds Movie' 'Independence Day: Resurgence' 'The Conjuring 2'\n",
      " 'Arrival' 'Passengers (2016)' 'Sausage Party'\n",
      " 'The Magnificent Seven (2016)' 'Ride Along 2' \"Don't Breathe\"\n",
      " \"Miss Peregrine's Home for Peculiar Children\" 'The Accountant'\n",
      " 'Teenage Mutant Ninja Turtles: Out of the Shadows'\n",
      " 'The Purge: Election Year' 'Alice Through the Looking Glass'\n",
      " \"Pete's Dragon (2016)\" 'The Girl on the Train (2016)'\n",
      " 'Boo! A Madea Halloween' 'Storks' '10 Cloverfield Lane' 'Lights Out'\n",
      " 'Hacksaw Ridge' 'The Divergent Series: Allegiant' 'Now You See Me 2'\n",
      " 'Ice Age: Collision Course' 'The Boss' 'London Has Fallen'\n",
      " 'Miracles from Heaven' 'Deepwater Horizon' 'Why Him?'\n",
      " 'My Big Fat Greek Wedding 2' 'Jack Reacher: Never Go Back' 'Fences'\n",
      " 'Me Before You' 'The BFG' 'Neighbors 2: Sorority Rising' 'The Shallows'\n",
      " 'Office Christmas Party' \"Assassin's Creed\" 'Barbershop: The Next Cut'\n",
      " '13 Hours: The Secret Soldiers of Benghazi' 'Lion'\n",
      " \"The Huntsman: Winter's War\" 'Kubo and the Two Strings'\n",
      " 'Manchester by the Sea' 'Warcraft' 'How to Be Single'\n",
      " 'Mike and Dave Need Wedding Dates' 'War Dogs' 'Almost Christmas'\n",
      " 'Money Monster' 'Allied' 'Nerve' 'Risen' 'The Nice Guys' 'The Boy (2016)'\n",
      " 'Dirty Grandpa' 'Ouija: Origin of Evil' 'The 5th Wave' 'Inferno'\n",
      " \"Mother's Day\" 'Patriots Day' 'Gods of Egypt' 'Collateral Beauty'\n",
      " 'Hail, Caesar!' 'When the Bough Breaks' 'Zoolander 2' 'Moonlight (2016)'\n",
      " 'The Finest Hours' 'Florence Foster Jenkins' 'Hell or High Water'\n",
      " 'The Forest' 'Ben-Hur (2016)' 'The Witch' \"Bridget Jones's Baby\"\n",
      " 'Kevin Hart: What Now?'] \n",
      "\n",
      "Opening_gross_sales :  [1.5508e+02 1.3506e+02 1.7914e+02 1.0435e+02 1.0326e+02 1.3243e+02\n",
      " 7.5060e+01 1.6601e+02 1.3368e+02 3.5260e+01 5.6630e+01 7.4400e+01\n",
      " 8.5060e+01 5.2000e-01 5.9220e+01 5.9250e+01 6.5770e+01 4.6580e+01\n",
      " 8.8000e-01 4.1280e+01 4.6020e+01 3.5540e+01 3.8530e+01 3.5030e+01\n",
      " 2.3820e+01 3.8160e+01 4.1040e+01 4.0410e+01 2.4070e+01 1.4870e+01\n",
      " 3.4260e+01 3.4700e+01 3.5240e+01 2.6410e+01 2.8870e+01 2.4710e+01\n",
      " 3.5320e+01 3.1520e+01 2.6860e+01 2.1510e+01 2.4540e+01 2.8500e+01\n",
      " 2.1310e+01 2.4730e+01 2.1690e+01 1.5190e+01 2.9030e+01 2.2380e+01\n",
      " 2.1370e+01 2.3590e+01 2.1640e+01 1.4810e+01 2.0220e+01 1.1000e+01\n",
      " 1.7860e+01 2.2870e+01 1.3000e-01 1.8720e+01 1.8780e+01 2.1760e+01\n",
      " 1.6800e+01 1.6890e+01 1.0280e+01 2.0240e+01 1.6190e+01 1.2000e-01\n",
      " 1.9450e+01 1.2610e+01 2.6000e-01 2.4170e+01 1.7880e+01 1.6630e+01\n",
      " 1.4690e+01 1.5130e+01 1.4790e+01 1.2700e+01 9.4500e+00 1.1800e+01\n",
      " 1.1200e+01 1.0780e+01 1.1110e+01 1.4070e+01 1.0330e+01 1.4860e+01\n",
      " 8.3700e+00 1.6000e-01 1.4120e+01 7.1000e+00 1.1360e+01 1.4200e+01\n",
      " 1.3840e+01 4.0000e-01 1.0290e+01 6.6000e+00 6.2000e-01 1.2740e+01\n",
      " 8.8000e+00 8.5700e+00 1.1770e+01] \n",
      "\n",
      "Total_gross_sales :  [532.18 486.3  408.08 368.38 364.   363.07 341.27 330.36 325.1  270.4\n",
      " 248.76 234.04 232.64 169.61 162.43 158.85 155.44 153.71 151.1  143.53\n",
      " 128.35 127.44 126.64 125.07 113.26 107.51 103.14 102.47 100.55 100.01\n",
      "  97.69  93.43  91.22  89.22  87.24  86.26  82.05  79.21  77.04  76.23\n",
      "  75.4   73.21  72.68  72.08  67.27  67.21  66.18  65.08  64.06  63.29\n",
      "  62.68  61.71  61.43  60.32  59.69  58.7   57.68  56.25  55.48  55.46\n",
      "  55.12  54.77  54.65  54.03  52.85  51.74  48.39  48.02  47.7   47.37\n",
      "  46.84  46.01  43.03  42.16  41.01  40.1   38.58  36.88  36.26  35.82\n",
      "  35.59  35.14  34.92  34.34  32.49  31.89  31.15  31.02  30.5   29.75\n",
      "  28.85  27.85  27.57  27.38  27.01  26.59  26.41  25.14  24.25  23.59] \n",
      "\n",
      "num_of_theaters :  [4157 4305 4226 4381 4144 3856 3959 4256 4255 4029 3875 3882 3416 4039\n",
      " 3928 4153 4066 3236 3987 3963 3508 3591 3955 3215 3932 4130 3356 3115\n",
      " 3478 3135 3696 3192 3384 3835 3402 4071 2821 3763 3702 3241 2299 3922\n",
      " 3427 2835 2971 3740 3232 3997 3495 3492 3155 3403 3008 3179 3780 2368\n",
      " 2762 3392 2962 3210 2996 2676 2917 1802 3802 3279 1213 3406 3357 3258\n",
      " 2379 3104 3160 2538 2915 2865 2671 2912 3168 2908 3576 3291 3120 3117\n",
      " 3028 2248 2246 3418 1564 3143 1528 1505 2509 3084 2204 2930 2567] \n",
      "\n",
      "week :  [20 25 24 18 22 12 14 19 46 21 13  9 17 11 15 16 10  8  7 23 28] \n",
      "\n"
     ]
    }
   ],
   "source": [
    "for i in col:\n",
    "    print(i,\": \",cp2[i].unique(),\"\\n\")"
   ]
  },
  {
   "cell_type": "code",
   "execution_count": 174,
   "id": "f5cd0f3b-acf4-4b05-9d4c-c7bca4028e88",
   "metadata": {},
   "outputs": [],
   "source": [
    "opening_gross_sales_range = [\n",
    "    '0.0-10   ',\n",
    "    '10.1-20  ',\n",
    "    '20.1-30  ',\n",
    "    '30.1-40  ',\n",
    "    '40.1-50  ',\n",
    "    '50.1-60  ',\n",
    "    '60.1-70  ',\n",
    "    '70.1-80  ',\n",
    "    '80.1-90  ',\n",
    "    '90.1-100 ',\n",
    "    '101.1-110',\n",
    "    '110.1-120',\n",
    "    '120.1-130',\n",
    "    '130.1-140',\n",
    "    '140.1-150',\n",
    "    '150.1-160',\n",
    "    '160.1-170',\n",
    "    '170.1-180'\n",
    "]\n",
    "ogs = [[] for i in range(len(opening_gross_sales_range))]\n",
    "opening_gross_sales_values = cp2['Opening_gross_sales'].tolist()\n",
    "def find_index_ogs(value):\n",
    "    for index, range_str in enumerate(opening_gross_sales_range):\n",
    "        lower,upper = map(float,range_str.strip().split('-'))\n",
    "        if lower<=value<=upper:\n",
    "            return index\n",
    "    return None\n",
    "\n",
    "for i in opening_gross_sales_values:\n",
    "    indx = find_index_ogs(i)\n",
    "    ogs[indx].append(i)\n",
    "\n",
    "freq_ogs = [len(i) for i in ogs]\n",
    "rel_freq_ogs = [round(i/total,2) for i in freq]\n",
    "per_freq_ogs = [round(i*100,2) for i in rel_freq]"
   ]
  },
  {
   "cell_type": "code",
   "execution_count": 175,
   "id": "38fb0146-8fba-4d67-8ebd-faa5a27b915c",
   "metadata": {},
   "outputs": [],
   "source": [
    "total_gross_sales_range= [\n",
    "    '0.0-50.0   ',\n",
    "    '50.1-100.0 ',\n",
    "    '100.0-150.0',\n",
    "    '150.1-200.0',\n",
    "    '200.1-250.0',\n",
    "    '250.1-300.0',\n",
    "    '300.1-350.0',\n",
    "    '350.1-400.0',\n",
    "    '400.5-450.0',\n",
    "    '450.1-500.0',\n",
    "    '500.1-550.0'\n",
    "]\n",
    "tgs = [[] for i in range(len(total_gross_sales_range))]\n",
    "total_gross_sales_values = cp2['Total_gross_sales'].tolist()\n",
    "def find_index_tgs(value):\n",
    "    for index, range_str in enumerate(total_gross_sales_range):\n",
    "        lower,upper = map(float,range_str.strip().split('-'))\n",
    "        if lower<=value<=upper:\n",
    "            return index\n",
    "    return None\n",
    "\n",
    "for i in total_gross_sales_values:\n",
    "    indx = find_index_tgs(i)\n",
    "    tgs[indx].append(i)\n",
    "\n",
    "freq_tgs = [len(i) for i in tgs]\n",
    "rel_freq_tgs = [round(i/total,2) for i in freq]\n",
    "per_freq_tgs = [round(i*100,2) for i in rel_freq]"
   ]
  },
  {
   "cell_type": "code",
   "execution_count": 176,
   "id": "8147d5e7-214d-42ea-a796-54a5d9a7f489",
   "metadata": {},
   "outputs": [],
   "source": [
    "num_of_the_range = [\n",
    "    '1000-1500',\n",
    "    '1501-2000',\n",
    "    '2001-2500',\n",
    "    '2501-3000',\n",
    "    '3001-3500',\n",
    "    '3501-4000',\n",
    "    '4001-4500'\n",
    "]\n",
    "num_of_the_value = cp2['num_of_theaters'].tolist()\n",
    "num_of_theater = [[] for i in range(len(num_of_the_range))]\n",
    "def find_index_not(value):\n",
    "    for index,range_str in enumerate(num_of_the_range):\n",
    "        lower,upper = map(float, range_str.split('-'))\n",
    "        if lower<=value<=upper:\n",
    "            return index\n",
    "    return None\n",
    "for i in num_of_the_value:\n",
    "    indx = find_index_not(i)\n",
    "    num_of_theater[indx].append(i)\n",
    "\n",
    "freq_not = [len(i) for i in num_of_theater]\n",
    "rel_freq_not = [round(i/total,2) for i in freq]\n",
    "per_freq_not = [round(i*100,2) for i in rel_freq]"
   ]
  },
  {
   "cell_type": "code",
   "execution_count": 177,
   "id": "d581e3bc-fb49-4897-91bd-df6ee62960bb",
   "metadata": {},
   "outputs": [],
   "source": [
    "week_range = [\n",
    "    '0-10',\n",
    "    '11-20',\n",
    "    '21-30',\n",
    "    '31-40',\n",
    "    '41-50'\n",
    "]\n",
    "week_value = cp2['week'].tolist()\n",
    "week = [[] for i in range(len(week_range))]\n",
    "def find_index_week(value):\n",
    "    for index, range_str in enumerate(week_range):\n",
    "        lower, upper = map(float, range_str.split('-'))\n",
    "        if lower<=value<=upper:\n",
    "            return index\n",
    "    return None\n",
    "for i in week_value:\n",
    "    indx = find_index_week(i)\n",
    "    week[indx].append(i)\n",
    "\n",
    "freq_week = [len(i) for i in week]\n",
    "rel_freq_week = [round(i/total,2) for i in freq]\n",
    "per_freq_week = [round(i*100,2) for i in rel_freq]"
   ]
  },
  {
   "cell_type": "code",
   "execution_count": 215,
   "id": "58e77171-8d8b-4d53-b797-b51fc7bbf792",
   "metadata": {},
   "outputs": [
    {
     "name": "stdout",
     "output_type": "stream",
     "text": [
      "----------------------------------------------------------------------------------------------------------------------------\n",
      "Opening Gross Sales\tFrequency\tRelative Frequency\tPercent Frequency\n",
      "0.0-10    \t\t   14 \t\t   0.14 \t\t\t 14.0\n",
      "10.1-20   \t\t   34 \t\t   0.34 \t\t\t 34.0\n",
      "20.1-30   \t\t   22 \t\t   0.22 \t\t\t 22.0\n",
      "30.1-40   \t\t   10 \t\t   0.1 \t\t\t 10.0\n",
      "40.1-50   \t\t   5 \t\t   0.05 \t\t\t 5.0\n",
      "50.1-60   \t\t   3 \t\t   0.03 \t\t\t 3.0\n",
      "60.1-70   \t\t   1 \t\t   0.01 \t\t\t 1.0\n",
      "70.1-80   \t\t   2 \t\t   0.02 \t\t\t 2.0\n",
      "80.1-90   \t\t   1 \t\t   0.01 \t\t\t 1.0\n",
      "90.1-100  \t\t   0 \t\t   0.0 \t\t\t 0.0\n",
      "101.1-110 \t\t   2 \t\t   0.02 \t\t\t 2.0\n",
      "110.1-120 \t\t   0 \t\t   0.0 \t\t\t 0.0\n",
      "120.1-130 \t\t   0 \t\t   0.0 \t\t\t 0.0\n",
      "130.1-140 \t\t   3 \t\t   0.03 \t\t\t 3.0\n",
      "140.1-150 \t\t   0 \t\t   0.0 \t\t\t 0.0\n",
      "150.1-160 \t\t   1 \t\t   0.01 \t\t\t 1.0\n",
      "160.1-170 \t\t   1 \t\t   0.01 \t\t\t 1.0\n",
      "170.1-180 \t\t   1 \t\t   0.01 \t\t\t 1.0\n",
      "----------------------------------------------------------------------------------------------------------------------------\n",
      "\t\t\t 100 \t\t   1.0 \t\t\t       100.0\n",
      "\n",
      "----------------------------------------------------------------------------------------------------------------------------\n",
      "Total Gross Sales\tFrequency\tRelative Frequency\tPercent Frequency\n",
      "0.0-50.0    \t\t   34 \t\t   0.14 \t\t\t 14.0\n",
      "50.1-100.0  \t\t   36 \t\t   0.34 \t\t\t 34.0\n",
      "100.0-150.0 \t\t   11 \t\t   0.22 \t\t\t 22.0\n",
      "150.1-200.0 \t\t   6 \t\t   0.1 \t\t\t 10.0\n",
      "200.1-250.0 \t\t   3 \t\t   0.05 \t\t\t 5.0\n",
      "250.1-300.0 \t\t   1 \t\t   0.03 \t\t\t 3.0\n",
      "300.1-350.0 \t\t   3 \t\t   0.01 \t\t\t 1.0\n",
      "350.1-400.0 \t\t   3 \t\t   0.02 \t\t\t 2.0\n",
      "400.5-450.0 \t\t   1 \t\t   0.01 \t\t\t 1.0\n",
      "450.1-500.0 \t\t   1 \t\t   0.0 \t\t\t 0.0\n",
      "500.1-550.0 \t\t   1 \t\t   0.02 \t\t\t 2.0\n",
      "----------------------------------------------------------------------------------------------------------------------------\n",
      "\t\t\t 100 \t\t   1.0 \t\t\t       100.0\n",
      "\n",
      "----------------------------------------------------------------------------------------------------------------------------\n",
      "Number of Theaters\tFrequency\tRelative Frequency\tPercent Frequency\n",
      "1000-1500 \t\t   1 \t\t   0.14 \t\t\t 14.0\n",
      "1501-2000 \t\t   4 \t\t   0.34 \t\t\t 34.0\n",
      "2001-2500 \t\t   6 \t\t   0.22 \t\t\t 22.0\n",
      "2501-3000 \t\t   17 \t\t   0.1 \t\t\t 10.0\n",
      "3001-3500 \t\t   37 \t\t   0.05 \t\t\t 5.0\n",
      "3501-4000 \t\t   21 \t\t   0.03 \t\t\t 3.0\n",
      "4001-4500 \t\t   14 \t\t   0.01 \t\t\t 1.0\n",
      "----------------------------------------------------------------------------------------------------------------------------\n",
      "\t\t\t 100 \t\t   1.0 \t\t\t       100.0\n",
      "\n",
      "----------------------------------------------------------------------------------------------------------------------------\n",
      "Week\tFrequency\tRelative Frequency\tPercent Frequency\n",
      "0-10 \t 23 \t\t   0.14 \t\t\t 14.0\n",
      "11-20 \t 63 \t\t   0.34 \t\t\t 34.0\n",
      "21-30 \t 13 \t\t   0.22 \t\t\t 22.0\n",
      "31-40 \t 0 \t\t   0.1 \t\t\t 10.0\n",
      "41-50 \t 1 \t\t   0.05 \t\t\t 5.0\n",
      "----------------------------------------------------------------------------------------------------------------------------\n",
      "\t 100 \t\t   1.0 \t\t\t       100.0\n"
     ]
    }
   ],
   "source": [
    "print(\"----------------------------------------------------------------------------------------------------------------------------\")\n",
    "print(\"Opening Gross Sales\\tFrequency\\tRelative Frequency\\tPercent Frequency\")\n",
    "for i,j,k,l in zip(opening_gross_sales_range, freq_ogs,rel_freq_ogs,per_freq_ogs):\n",
    "    print(i,\"\\t\\t  \",j,\"\\t\\t  \",k,\"\\t\\t\\t\",l)\n",
    "print(\"----------------------------------------------------------------------------------------------------------------------------\")\n",
    "print(\"\\t\\t\\t\",sum(freq_ogs),\"\\t\\t  \",sum(rel_freq_ogs),\"\\t\\t\\t      \",sum(per_freq_ogs))\n",
    "print(\"\\n----------------------------------------------------------------------------------------------------------------------------\")\n",
    "print(\"Total Gross Sales\\tFrequency\\tRelative Frequency\\tPercent Frequency\")\n",
    "for i,j,k,l in zip(total_gross_sales_range, freq_tgs,rel_freq_tgs,per_freq_tgs):\n",
    "    print(i,\"\\t\\t  \",j,\"\\t\\t  \",k,\"\\t\\t\\t\",l)\n",
    "print(\"----------------------------------------------------------------------------------------------------------------------------\")\n",
    "print(\"\\t\\t\\t\",sum(freq_tgs),\"\\t\\t  \",sum(rel_freq_tgs),\"\\t\\t\\t      \",sum(per_freq_tgs))\n",
    "print(\"\\n----------------------------------------------------------------------------------------------------------------------------\")\n",
    "print(\"Number of Theaters\\tFrequency\\tRelative Frequency\\tPercent Frequency\")\n",
    "for i,j,k,l in zip(num_of_the_range, freq_not,rel_freq_not,per_freq_not):\n",
    "    print(i,\"\\t\\t  \",j,\"\\t\\t  \",k,\"\\t\\t\\t\",l)\n",
    "print(\"----------------------------------------------------------------------------------------------------------------------------\")\n",
    "print(\"\\t\\t\\t\",sum(freq_not),\"\\t\\t  \",sum(rel_freq_not),\"\\t\\t\\t      \",sum(per_freq_not))\n",
    "print(\"\\n----------------------------------------------------------------------------------------------------------------------------\")\n",
    "print(\"Week\\tFrequency\\tRelative Frequency\\tPercent Frequency\")\n",
    "for i,j,k,l in zip(week_range, freq_week,rel_freq_week,per_freq_week):\n",
    "    print(i,\"\\t\",j,\"\\t\\t  \",k,\"\\t\\t\\t\",l)\n",
    "print(\"----------------------------------------------------------------------------------------------------------------------------\")\n",
    "print(\"\\t\",sum(freq_week),\"\\t\\t  \",sum(rel_freq_week),\"\\t\\t\\t      \",sum(per_freq_week))"
   ]
  },
  {
   "cell_type": "code",
   "execution_count": null,
   "id": "7e3e3b34-800f-471e-97af-bab347630fad",
   "metadata": {},
   "outputs": [],
   "source": []
  }
 ],
 "metadata": {
  "kernelspec": {
   "display_name": "Python 3 (ipykernel)",
   "language": "python",
   "name": "python3"
  },
  "language_info": {
   "codemirror_mode": {
    "name": "ipython",
    "version": 3
   },
   "file_extension": ".py",
   "mimetype": "text/x-python",
   "name": "python",
   "nbconvert_exporter": "python",
   "pygments_lexer": "ipython3",
   "version": "3.12.4"
  }
 },
 "nbformat": 4,
 "nbformat_minor": 5
}
